{
    "metadata": {
        "authors": [],
        "id": "dgFsMCzE8UijaR7BNUpRsQ",
        "kernelspec": {
            "display_name": "Formula Framework",
            "language": "C#",
            "name": "C#"
        },
        "language_info": {
            "file_extension": ".cs",
            "mimetype": "text/plain",
            "name": "C#"
        }
    },
    "nbformat": 4,
    "nbformat_minor": 5,
    "cells": [
        {
            "cell_type": "markdown",
            "source": [
                "<p style=\"font-weight:bold; font-size: 40px; color:#0171ff; padding-top: 50px; text-align:center\"> How to create a new Scenario </p>"
            ],
            "metadata": {},
            "execution_count": 0,
            "outputs": []
        },
        {
            "cell_type": "markdown",
            "source": [
                "The International Financial Reporting Standard (IFRS) 17 dictates companies to  ",
                "\n",
                "\n> \"... (a) exposures to risks and how they arise;",
                "\n",
                "\n> (b) objectives, policies and processes for managing risks and the methods used to measure those risks;",
                "\n",
                "\n>(c) concentrations of risk arising from insurance contracts;",
                "\n",
                "\n>(d) the claims development—ie actual claims compared with previous estimates of the undiscounted amount of the claims;",
                "\n",
                "\n>(e) the credit quality of reinsurance contract assets; and",
                "\n",
                "\n>(f) liquidity risk, including a maturity analysis showing the estimated cash flows arising from insurance contracts... [1]\"",
                "\n",
                "\nbut it does not force or prescribe *how* each Scenario should be modeled and *how many* or them should be considered.",
                "\n",
                "\nSystemorph IFRS17 Solution gives the User the possibility to interpretate the requirements with the highest flexibility possible thanks to its open source approach.",
                "\n",
                "\nIn this notebook we focus on the creation of new Scenario and new AoC step to host them. Given some simple rules, the solution automatically incorporate new arbitrary AoC steps and then calculate PVs, CSMs and FP, calculating the Deltas from cumulative cash flows as usual."
            ],
            "metadata": {},
            "execution_count": 0,
            "outputs": []
        },
        {
            "cell_type": "code",
            "source": [
                "#!import \"//develop-ifrs17/v1.2.0/CalculationEngine\""
            ],
            "metadata": {},
            "execution_count": 0,
            "outputs": []
        },
        {
            "cell_type": "code",
            "source": [
                "await DataSource.SetAsync();",
                "\nDataSource.Reset(x => x.ResetCurrentPartitions());"
            ],
            "metadata": {},
            "execution_count": 0,
            "outputs": []
        },
        {
            "cell_type": "code",
            "source": [
                "await Import.FromFile(\"Dimensions.xlsx\")",
                "\n    .WithType<ReportingNode>()               .WithType<AocType>()                .WithType<DeferrableAmountType>()",
                "\n    .WithType<AmountType>()                  .WithType<Scenario>()               .WithType<LiabilityType>()",
                "\n    .WithType<LineOfBusiness>()              .WithType<EstimateType>()           .WithType<EconomicBasis>()",
                "\n    .WithType<Currency>()                    .WithType<PnlVariableType>()        .WithType<BsVariableType>()",
                "\n    .WithType<Novelty>()                     .WithType<Profitability>()          .WithType<OciType>()",
                "\n    .WithType<ValuationApproach>()           .WithType<RiskDriver>()             .WithType<ProjectionConfiguration>()    ",
                "\n    .WithType<ExchangeRate>()",
                "\n    .WithTarget(DataSource)",
                "\n    .ExecuteAsync()"
            ],
            "metadata": {},
            "execution_count": 0,
            "outputs": []
        },
        {
            "cell_type": "markdown",
            "source": [
                "The AoC Configuration is a special dimension that contains the business rules to perform the analysis of change from cash flows and actuals. It also contains default values for new AoC steps. With them "
            ],
            "metadata": {},
            "execution_count": 0,
            "outputs": []
        },
        {
            "cell_type": "code",
            "source": [
                "await Import.FromFile(\"Dimensions_EP3.xlsx\")",
                "\n            .WithFormat(ImportFormats.AocConfiguration)",
                "\n            .WithTarget(DataSource)",
                "\n            .ExecuteAsync()"
            ],
            "metadata": {},
            "execution_count": 0,
            "outputs": []
        },
        {
            "cell_type": "code",
            "source": [
                "await Import.FromFile(\"DataNodes.xlsx\")",
                "\n            .WithFormat(ImportFormats.DataNode)",
                "\n            .WithTarget(DataSource)",
                "\n            .ExecuteAsync()"
            ],
            "metadata": {},
            "execution_count": 0,
            "outputs": []
        },
        {
            "cell_type": "code",
            "source": [
                "await Import.FromFile(\"YieldCurve.xlsx\").WithFormat(ImportFormats.YieldCurve).WithTarget(DataSource).ExecuteAsync()"
            ],
            "metadata": {},
            "execution_count": 0,
            "outputs": []
        },
        {
            "cell_type": "code",
            "source": [
                "var ifrs17 = new Ifrs17(Workspace, Scopes, Report);"
            ],
            "metadata": {},
            "execution_count": 0,
            "outputs": []
        },
        {
            "cell_type": "code",
            "source": [
                "await Import.FromFile(\"CF_G_2022_12.xlsx\").WithFormat(ImportFormats.Cashflow).WithTarget(DataSource).ExecuteAsync()"
            ],
            "metadata": {},
            "execution_count": 0,
            "outputs": []
        },
        {
            "cell_type": "code",
            "source": [
                "await Import.FromFile(\"A_G_2022_12.csv\").WithFormat(ImportFormats.Actual).WithTarget(DataSource).ExecuteAsync()"
            ],
            "metadata": {},
            "execution_count": 0,
            "outputs": []
        },
        {
            "cell_type": "code",
            "source": [
                "await Import.FromFile(\"A_G_2023_1.csv\").WithFormat(ImportFormats.Actual).WithTarget(DataSource).ExecuteAsync()"
            ],
            "metadata": {},
            "execution_count": 0,
            "outputs": []
        },
        {
            "cell_type": "code",
            "source": [
                "Workspace.Reset(x => x.ResetInitializationRules());",
                "\nWorkspace.InitializeFrom(DataSource);"
            ],
            "metadata": {},
            "execution_count": 0,
            "outputs": []
        },
        {
            "cell_type": "code",
            "source": [
                "//await Import.FromFile(\"CF_G_2023_1.xlsx\").WithFormat(ImportFormats.Cashflow).WithTarget(DataSource).ExecuteAsync()"
            ],
            "metadata": {},
            "execution_count": 0,
            "outputs": []
        },
        {
            "cell_type": "code",
            "source": [
                "await Import.FromFile(\"CF_G_2023_3.xlsx\").WithFormat(ImportFormats.Cashflow).WithTarget(DataSource).ExecuteAsync()"
            ],
            "metadata": {},
            "execution_count": 0,
            "outputs": []
        },
        {
            "cell_type": "code",
            "source": [
                "await Import.FromFile(\"CF_G_2023_3_IIUUP.xlsx\").WithFormat(ImportFormats.Cashflow).WithTarget(DataSource).ExecuteAsync()"
            ],
            "metadata": {},
            "execution_count": 0,
            "outputs": []
        },
        {
            "cell_type": "code",
            "source": [
                "var aocTypes = await DataSource.Query<AocType>().OrderBy(x => x.Order).ToArrayAsync();",
                "\n    var aocTypesCompulsory = typeof(AocTypes).GetFields().Select(x => (string)x.Name);",
                "\n    if(aocTypesCompulsory.Where(x => !aocTypes.Select(x => x.SystemName).Contains(x)).Any()) {",
                "\n        ApplicationMessage.Log(Error.AocTypeCompulsoryNotFound);",
                "\n        return Activity.Finish();",
                "\n    }",
                "\n    ",
                "\n    ",
                "\n    var orderByName = aocTypes.ToDictionary(x => x.SystemName, x => x.Order);",
                "\n    var aocConfigs = (await DataSource.Query<AocConfiguration>().ToArrayAsync())",
                "\n                                     .GroupBy(x => (x.AocType, x.Novelty))",
                "\n                                     .Select(y => y.OrderByDescending(x => x.Year).ThenByDescending(x => x.Month).FirstOrDefault())",
                "\n                                     .ToDictionary(x => (x.AocType, x.Novelty));",
                "\n    var aocOrder = aocConfigs.ToDictionary(x => x.Key, x => x.Value.Order);",
                "\n    var newAocTypes = orderByName.Keys.Where(x => !aocConfigs.Keys.Contains((x, Novelties.I)) && ",
                "\n                                                  !aocConfigs.Keys.Contains((x, Novelties.N)) && ",
                "\n                                                  !aocConfigs.Keys.Contains((x, Novelties.C)) && ",
                "\n                                                  !aocTypes.Any(y => y.Parent == x)           &&",
                "\n                                                  !aocTypesCompulsory.Contains(x)).ToArray();",
                "\n",
                "\n    aocOrder"
            ],
            "metadata": {},
            "execution_count": 0,
            "outputs": []
        }
    ]
}