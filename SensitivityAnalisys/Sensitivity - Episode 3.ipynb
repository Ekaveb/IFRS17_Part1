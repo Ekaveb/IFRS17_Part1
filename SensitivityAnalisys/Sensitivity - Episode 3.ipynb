{
    "metadata": {
        "authors": [],
        "id": "dgFsMCzE8UijaR7BNUpRsQ",
        "kernelspec": {
            "display_name": "Formula Framework",
            "language": "C#",
            "name": "C#"
        },
        "language_info": {
            "file_extension": ".cs",
            "mimetype": "text/plain",
            "name": "C#"
        }
    },
    "nbformat": 4,
    "nbformat_minor": 5,
    "cells": [
        {
            "cell_type": "markdown",
            "source": [
                "<p style=\"font-weight:bold; font-size: 40px; color:#0171ff; padding-top: 50px; text-align:center\"> How to create a new Scenario </p>"
            ],
            "metadata": {},
            "execution_count": 0,
            "outputs": []
        },
        {
            "cell_type": "markdown",
            "source": [
                "The International Financial Reporting Standard (IFRS) 17 dictates companies to  ",
                "\n",
                "\n> \"... (a) exposures to risks and how they arise;",
                "\n",
                "\n> (b) objectives, policies and processes for managing risks and the methods used to measure those risks;",
                "\n",
                "\n>(c) concentrations of risk arising from insurance contracts;",
                "\n",
                "\n>(d) the claims development—ie actual claims compared with previous estimates of the undiscounted amount of the claims;",
                "\n",
                "\n>(e) the credit quality of reinsurance contract assets; and",
                "\n",
                "\n>(f) liquidity risk, including a maturity analysis showing the estimated cash flows arising from insurance contracts... [1]\"",
                "\n",
                "\nbut it does not force or prescribe *how* each Scenario should be modeled and *how many* or them should be considered.",
                "\n",
                "\nSystemorph IFRS17 Solution gives the User the possibility to interpretate the requirements with the highest flexibility possible thanks to its open source approach.",
                "\n",
                "\nIn this notebook we focus on the creation of new Scenario and new AoC step to host them. Given some simple rules, the solution automatically incorporate new arbitrary AoC steps and then calculate PVs, CSMs and FP, calculating the Deltas from cumulative cash flows as usual."
            ],
            "metadata": {},
            "execution_count": 0,
            "outputs": []
        },
        {
            "cell_type": "markdown",
            "source": [
                "# Initialization",
                "\n"
            ],
            "metadata": {},
            "execution_count": 0,
            "outputs": []
        },
        {
            "cell_type": "markdown",
            "source": [
                "Before performing any change, we reuse the standard Initialization code to create the Database."
            ],
            "metadata": {},
            "execution_count": 0,
            "outputs": []
        },
        {
            "cell_type": "code",
            "source": [
                "#!eval-notebook \"Initialization\""
            ],
            "metadata": {},
            "execution_count": 0,
            "outputs": []
        },
        {
            "cell_type": "markdown",
            "source": [
                "Now we want to import new Scenarios to study the effect of an increase of inflation of 10 percent points, using three different approaches: ",
                "\n* Non-Financial Inflation Up 10pct: the cash flow is increased of 10 percent point for Premiums, Claims and Risk Adjustment;",
                "\n* Financial Inflation Up 10pct: a new Aoc step is created to accomodated the specific effect of inflation;",
                "\n* Yield Curve Up 10pct: a new Yield Curve is imported, where the expected incrementation of inflation is included.",
                "\n",
                "\nThe new Dimensions can be found in the file *Dimensions_EP3.xlsx*. Since we are adding new element to the dimensions *AoCType* and *Scenario*, we don't need to reimport the all Database but simply updating the relevant types."
            ],
            "metadata": {},
            "execution_count": 0,
            "outputs": []
        },
        {
            "cell_type": "code",
            "source": [
                "await Import.FromFile(\"Dimensions_EP3.xlsx\").WithType<AocType>().WithType<Scenario>().WithTarget(DataSource).ExecuteAsync() "
            ],
            "metadata": {},
            "execution_count": 0,
            "outputs": []
        },
        {
            "cell_type": "markdown",
            "source": [
                "The AoC Configuration contains default values for the new AoC step. We reimport it again to let the Calculation Engine rebuild the total AoC chain."
            ],
            "metadata": {},
            "execution_count": 0,
            "outputs": []
        },
        {
            "cell_type": "code",
            "source": [
                "await Import.FromFile(\"Dimensions_EP3.xlsx\").WithFormat(ImportFormats.AocConfiguration).WithTarget(DataSource).ExecuteAsync()"
            ],
            "metadata": {},
            "execution_count": 0,
            "outputs": []
        },
        {
            "cell_type": "markdown",
            "source": [
                "# Import of cash flows"
            ],
            "metadata": {},
            "execution_count": 0,
            "outputs": []
        },
        {
            "cell_type": "markdown",
            "source": [
                "First, we import the BE TD. Since we are studying a BBA Datanode, the locked economic basis is used. It means that discounting of the Present Values (PV) is done with the Yield Curve related with the Period (year and month) when the Datanode was activated (imported for the first time). This allow us to import the cash flow without importing a zield curve for the same Period."
            ],
            "metadata": {},
            "execution_count": 0,
            "outputs": []
        },
        {
            "cell_type": "code",
            "source": [
                "await Import.FromFile(\"A_G_2023_3.csv\").WithFormat(ImportFormats.Actual).WithTarget(DataSource).ExecuteAsync()"
            ],
            "metadata": {},
            "execution_count": 0,
            "outputs": []
        },
        {
            "cell_type": "code",
            "source": [
                "await Import.FromFile(\"CF_G_2023_3.xlsx\").WithFormat(ImportFormats.Cashflow).WithTarget(DataSource).ExecuteAsync()"
            ],
            "metadata": {},
            "execution_count": 0,
            "outputs": []
        },
        {
            "cell_type": "markdown",
            "source": [
                "Financial and Non-Financial Scenarios calculations are triggered by importing the respective cash flows. The CE has been designed to avoid mixing sources of perturbation. Therefore, each import of Scenario TD will use always the BE yield curve. Viceversa, each Scenario yield curve will discount only BE TD. "
            ],
            "metadata": {},
            "execution_count": 0,
            "outputs": []
        },
        {
            "cell_type": "code",
            "source": [
                "await Import.FromFile(\"CF_G_2023_3_NFIIUUP.xlsx\").WithFormat(ImportFormats.Cashflow).WithTarget(DataSource).ExecuteAsync()"
            ],
            "metadata": {},
            "execution_count": 0,
            "outputs": []
        },
        {
            "cell_type": "code",
            "source": [
                "await Import.FromFile(\"CF_G_2023_3_FIIUUP.xlsx\").WithFormat(ImportFormats.Cashflow).WithTarget(DataSource).ExecuteAsync()"
            ],
            "metadata": {},
            "execution_count": 0,
            "outputs": []
        },
        {
            "cell_type": "code",
            "source": [
                "var testYC = @\"",
                "\n@@Main,",
                "\nYear,Month,Scenario",
                "\n2023,3,YCIIUP",
                "\n@@YieldCurve",
                "\nCurrency,Values0",
                "\nCHF,1.068685495",
                "\nEUR,1.068685495\";"
            ],
            "metadata": {},
            "execution_count": 0,
            "outputs": []
        },
        {
            "cell_type": "code",
            "source": [
                "//await Import.FromFile(\"YieldCurve_YCUP.xlsx\").WithFormat(ImportFormats.YieldCurve).WithTarget(DataSource).ExecuteAsync()",
                "\nawait Import.FromString(testYC).WithFormat(ImportFormats.YieldCurve).WithTarget(DataSource).ExecuteAsync()"
            ],
            "metadata": {},
            "execution_count": 0,
            "outputs": []
        },
        {
            "cell_type": "code",
            "source": [
                "DataSource.Query<YieldCurve>().ToArray()"
            ],
            "metadata": {},
            "execution_count": 0,
            "outputs": []
        },
        {
            "cell_type": "code",
            "source": [
                "DataSource.Query<PartitionByReportingNodeAndPeriod>().ToArray()"
            ],
            "metadata": {},
            "execution_count": 0,
            "outputs": []
        },
        {
            "cell_type": "code",
            "source": [
                "Workspace.Reset(x => x.ResetInitializationRules());",
                "\nWorkspace.InitializeFrom(DataSource);"
            ],
            "metadata": {},
            "execution_count": 0,
            "outputs": []
        },
        {
            "cell_type": "code",
            "source": [
                "var ifrs17 = new Ifrs17(Workspace, Scopes, Report);"
            ],
            "metadata": {},
            "execution_count": 0,
            "outputs": []
        },
        {
            "cell_type": "markdown",
            "source": [
                "# Reimport"
            ],
            "metadata": {},
            "execution_count": 0,
            "outputs": []
        },
        {
            "cell_type": "markdown",
            "source": [
                "Real business life is different from linear, educational exercesises. Usually data does not come together, or it is found to be wrong; reimporting new inputs to upload previous data is the standard more than the exception. Because of interdependences between BE and Scenario, and between cash flow and yield curve, changing some data in a Partition may outdate something other. The CE takes care of these problems, retriggering calculation when needed.",
                "\n"
            ],
            "metadata": {},
            "execution_count": 0,
            "outputs": []
        },
        {
            "cell_type": "markdown",
            "source": [
                "<span style=\"color:red\"> CRITICAL:</span> Because of the periodic nature of IFRS17 reporting process, the import of any input file (cash flow, actuals, yield curve) does trigger calculations *only in the same Period*. ",
                "\nThis implies that data from following Periods, if present, could potentially be outdated.",
                "\n*Do we want to suggest a best practise in case of reopening of previous years?*",
                "\n"
            ],
            "metadata": {},
            "execution_count": 0,
            "outputs": []
        },
        {
            "cell_type": "code",
            "source": [
                "await Import.FromFile(\"CF_G_2023_3.xlsx\").WithFormat(ImportFormats.Cashflow).WithTarget(DataSource).ExecuteAsync()"
            ],
            "metadata": {},
            "execution_count": 0,
            "outputs": []
        },
        {
            "cell_type": "markdown",
            "source": [
                "A warning informs the user which Scenario will be recalculated."
            ],
            "metadata": {},
            "execution_count": 0,
            "outputs": []
        },
        {
            "cell_type": "markdown",
            "source": [
                "# Reports"
            ],
            "metadata": {},
            "execution_count": 0,
            "outputs": []
        },
        {
            "cell_type": "code",
            "source": [
                "var pv = ifrs17.PresentValues;",
                "\npv.DataFilter = new [] {(\"GroupOfContract\", \"GIC2\")};",
                "\npv.Scenario = \"All\";",
                "\nawait pv.ToReportAsync"
            ],
            "metadata": {},
            "execution_count": 0,
            "outputs": []
        },
        {
            "cell_type": "code",
            "source": [
                "pv.Scenario = \"Delta\";",
                "\nawait pv.ToReportAsync"
            ],
            "metadata": {},
            "execution_count": 0,
            "outputs": []
        },
        {
            "cell_type": "code",
            "source": [
                "var csm = ifrs17.AllocatedTechnicalMargins;",
                "\ncsm.ReportingPeriod = (2023, 3);",
                "\ncsm.DataFilter = new [] {(\"GroupOfContract\", \"GIC2\")};",
                "\ncsm.Scenario = \"All\";",
                "\nawait csm.ToReportAsync"
            ],
            "metadata": {},
            "execution_count": 0,
            "outputs": []
        },
        {
            "cell_type": "code",
            "source": [
                "var fp = ifrs17.FinancialPerformance;",
                "\nfp.Scenario = \"All\";",
                "\nawait fp.ToReportAsync"
            ],
            "metadata": {},
            "execution_count": 0,
            "outputs": []
        },
        {
            "cell_type": "code",
            "source": [
                ""
            ],
            "metadata": {},
            "execution_count": 0,
            "outputs": []
        }
    ]
}