{
    "metadata": {
        "authors": [],
        "id": "SyCT-ArEFUGy32JXZIntZA",
        "kernelspec": {
            "display_name": "Formula Framework",
            "language": "C#",
            "name": "C#"
        },
        "language_info": {
            "file_extension": ".cs",
            "mimetype": "text/plain",
            "name": "C#"
        }
    },
    "nbformat": 4,
    "nbformat_minor": 5,
    "cells": [
        {
            "cell_type": "markdown",
            "source": [
                "<p style=\"font-weight:bold;\"> <span style=\"font-size: 36px\"> Initialize Dimensions </span> </p>"
            ],
            "metadata": {},
            "execution_count": 0,
            "outputs": []
        },
        {
            "cell_type": "code",
            "source": [
                "#!import \"//develop-ifrs17/v1.2.0/CalculationEngine\""
            ],
            "metadata": {},
            "execution_count": 0,
            "outputs": []
        },
        {
            "cell_type": "code",
            "source": [
                "await DataSource.SetAsync();",
                "\nDataSource.Reset(x => x.ResetCurrentPartitions());"
            ],
            "metadata": {},
            "execution_count": 0,
            "outputs": []
        },
        {
            "cell_type": "code",
            "source": [
                "await Import.FromFile(\"Dimensions.xlsx\")",
                "\n    .WithType<ReportingNode>()               .WithType<AocType>()                .WithType<DeferrableAmountType>()",
                "\n    .WithType<AmountType>()                  .WithType<Scenario>()               .WithType<LiabilityType>()",
                "\n    .WithType<LineOfBusiness>()              .WithType<EstimateType>()           .WithType<EconomicBasis>()",
                "\n    .WithType<Currency>()                    .WithType<PnlVariableType>()        .WithType<BsVariableType>()",
                "\n    .WithType<Novelty>()                     .WithType<Profitability>()          .WithType<OciType>()",
                "\n    .WithType<ValuationApproach>()           .WithType<RiskDriver>()             .WithType<ProjectionConfiguration>()    ",
                "\n    .WithType<ExchangeRate>()",
                "\n    .WithTarget(DataSource)",
                "\n    .ExecuteAsync()"
            ],
            "metadata": {},
            "execution_count": 0,
            "outputs": []
        },
        {
            "cell_type": "code",
            "source": [
                "await Import.FromFile(\"Dimensions.xlsx\")",
                "\n            .WithFormat(ImportFormats.AocConfiguration)",
                "\n            .WithTarget(DataSource)",
                "\n            .ExecuteAsync()"
            ],
            "metadata": {},
            "execution_count": 0,
            "outputs": []
        },
        {
            "cell_type": "code",
            "source": [
                "await Import.FromFile(\"DataNodes.xlsx\")",
                "\n            .WithFormat(\"DataNode\")",
                "\n            .WithTarget(DataSource)",
                "\n            .ExecuteAsync()"
            ],
            "metadata": {},
            "execution_count": 0,
            "outputs": []
        },
        {
            "cell_type": "code",
            "source": [
                "await Import.FromFile(\"YieldCurve.xlsx\").WithFormat(ImportFormats.YieldCurve).WithTarget(DataSource).ExecuteAsync()"
            ],
            "metadata": {},
            "execution_count": 0,
            "outputs": []
        },
        {
            "cell_type": "code",
            "source": [
                "await Import.FromFile(\"CF_G_2022_12.xlsx\").WithFormat(ImportFormats.Cashflow).WithTarget(DataSource).ExecuteAsync()"
            ],
            "metadata": {},
            "execution_count": 0,
            "outputs": []
        },
        {
            "cell_type": "code",
            "source": [
                "await Import.FromFile(\"A_G_2022_12.csv\").WithFormat(ImportFormats.Actual).WithTarget(DataSource).ExecuteAsync()"
            ],
            "metadata": {},
            "execution_count": 0,
            "outputs": []
        },
        {
            "cell_type": "code",
            "source": [
                "Workspace.Reset(x => x.ResetInitializationRules());",
                "\nWorkspace.InitializeFrom(DataSource);"
            ],
            "metadata": {},
            "execution_count": 0,
            "outputs": []
        },
        {
            "cell_type": "code",
            "source": [
                "var ifrs17 = new Ifrs17(Workspace, Scopes, Report);"
            ],
            "metadata": {},
            "execution_count": 0,
            "outputs": []
        }
    ]
}