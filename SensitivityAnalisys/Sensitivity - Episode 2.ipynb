{
    "metadata": {
        "authors": [],
        "id": "64nnOt4MiEe7zF2J8EIH6g",
        "kernelspec": {
            "display_name": "Formula Framework",
            "language": "C#",
            "name": "C#"
        },
        "language_info": {
            "file_extension": ".cs",
            "mimetype": "text/plain",
            "name": "C#"
        }
    },
    "nbformat": 4,
    "nbformat_minor": 5,
    "cells": [
        {
            "cell_type": "markdown",
            "source": [
                "<p style=\"font-weight:bold; font-size: 40px; color:#0171ff; padding-top: 50px; text-align:center\"> Sensitivity Analysis </p>"
            ],
            "metadata": {},
            "execution_count": 0,
            "outputs": []
        },
        {
            "cell_type": "markdown",
            "source": [
                "The International Financial Reporting Standard (IFRS) 17 requires entities to disclose a Sensitivity Analysis to study the actuarial model and results response to change in input. ",
                "\n",
                "\nThe Best Estimate (BE) is the cash flow produced from the model and parameters believed to be the most accurate ones given hystorical data and state-of-the-art predictions.",
                "\n",
                "\nNevertheless, the variation of these parameters must be evaluated for the reporting period on measurement components presented in previous Present Value Series, like CSM LC and Financial Performance. ",
                "\n",
                "\nA list of common Scenario includes but is not exhausted by:",
                "\n1. Increase/decrease of Yield Curves (YC),",
                "\n2. Increase/decrease of Mortality, Longevity or Disability,",
                "\n3. Equity/Property fluctuation,",
                "\n4. Liabilities on Incurred Claims (LIC).",
                "\n   ",
                "\n> In addition, entities can introduce new Scenarios when thought to be relevant for the regulator.",
                "\n",
                "\nThe aim of this notebook is to illustrate the IFRS 17 *Sensitivities* calculation using Systemorph Cloud Technology: it enables our partners to perform a complete set of SA at the simple cost of producing new inputs for each Scenario they are interested. Currently, Cashflow, Actuals and Yield Curves inputs are designed to depends on Scenarios: if it is not specified, the platform will assumes that they belong to BE.",
                "\n",
                "\nThe company portfolio structure, i.e. **GIC** hierarchy, is not meant to change because of external variables and therefore does not support SA.",
                "\n",
                "\n"
            ],
            "metadata": {},
            "execution_count": 0,
            "outputs": []
        },
        {
            "cell_type": "markdown",
            "source": [
                "# Scenario Definition"
            ],
            "metadata": {},
            "execution_count": 0,
            "outputs": []
        },
        {
            "cell_type": "markdown",
            "source": [
                "Scenarios are identified as **dimension** and imported via the *dimensions.csv* file. As BE is the default Scenario, it does not have to be specified. If a given Scenario is not been imported, all attempts to upload related Data will fail. ",
                "\n",
                "\nThe effect of the Scenario is parametrized in IFRS17 by a change in the value of some AoCSteps. In order to save time and efford, the Platform implemetes the following business rules:",
                "\n1. if an AoCStep is present, it will be saved and used for calculations;",
                "\n2. if an AoCStep is Zero, it will be save instead of be discarded (unlike in BE import);",
                "\n3. if an AoCStep is absent, the BE value is used.",
                "\n4. if an AoCStep is absent in either Scenario and BE case, a Zero will be used.",
                "\n",
                "\nThese rules minimize the amount of Data needed to performe a SA, since the Platform will retrieve all unchanged AoCSteps from the DataBase. If the AoCSteps available does not suits the needs of the business Case, new ones can be introduced in thee *dimensions.csv*.",
                "\n",
                "\nEven if a dimension import can be performed several times with different files, these fundamental data structures have such deep consequences on calculation flow and numerical results that it is strongly recommended to not change them after the import of Transactiona Data (TD, i.e. Cashflows and Actuals)."
            ],
            "metadata": {},
            "execution_count": 0,
            "outputs": []
        },
        {
            "cell_type": "code",
            "source": [
                "#!eval-notebook \"Initialization\""
            ],
            "metadata": {},
            "execution_count": 0,
            "outputs": []
        },
        {
            "cell_type": "markdown",
            "source": [
                "# BE Data Import"
            ],
            "metadata": {},
            "execution_count": 0,
            "outputs": []
        },
        {
            "cell_type": "markdown",
            "source": [
                "Since BE is the default case no other Data are available, and the YC must be imported *before* the TD."
            ],
            "metadata": {},
            "execution_count": 0,
            "outputs": []
        },
        {
            "cell_type": "code",
            "source": [
                "await Import.FromFile(\"A_G_2023_1.csv\").WithFormat(ImportFormats.Actual).WithTarget(DataSource).ExecuteAsync()"
            ],
            "metadata": {},
            "execution_count": 0,
            "outputs": []
        },
        {
            "cell_type": "code",
            "source": [
                "await Import.FromFile(\"CF_G_2023_1.xlsx\").WithFormat(ImportFormats.Cashflow).WithTarget(DataSource).ExecuteAsync()"
            ],
            "metadata": {},
            "execution_count": 0,
            "outputs": []
        },
        {
            "cell_type": "markdown",
            "source": [
                "# Scenario Data Import"
            ],
            "metadata": {},
            "execution_count": 0,
            "outputs": []
        },
        {
            "cell_type": "markdown",
            "source": [
                "Importing Scenario TD does not needs more steps that importing a BE TD. The information about the Scenario is saved in the Main tab, while the perturbed values are in the Cashflow tab (download the Exce file to compare).",
                "\n",
                "\nIn our example, the mortality increase has been modeled with a change in Assumption Update (AU) and Combined Liability (CL) with AmoutType Claims."
            ],
            "metadata": {},
            "execution_count": 0,
            "outputs": []
        },
        {
            "cell_type": "markdown",
            "source": [
                "## Transactional Data"
            ],
            "metadata": {},
            "execution_count": 0,
            "outputs": []
        },
        {
            "cell_type": "code",
            "source": [
                "await Import.FromFile(\"CF_G_2023_1_MTUP.xlsx\").WithFormat(ImportFormats.Cashflow).WithTarget(DataSource).ExecuteAsync()"
            ],
            "metadata": {},
            "execution_count": 0,
            "outputs": []
        },
        {
            "cell_type": "code",
            "source": [
                "await Import.FromFile(\"CF_G_2023_1_MTDN.xlsx\").WithFormat(ImportFormats.Cashflow).WithTarget(DataSource).ExecuteAsync()"
            ],
            "metadata": {},
            "execution_count": 0,
            "outputs": []
        },
        {
            "cell_type": "markdown",
            "source": [
                "# Report"
            ],
            "metadata": {},
            "execution_count": 0,
            "outputs": []
        },
        {
            "cell_type": "code",
            "source": [
                "var pv = ifrs17.PresentValues;",
                "\npv.Scenario = \"Delta\";",
                "\npv.ColumnSlices = new[]{\"AmountType\"};",
                "\nawait pv.ToReportAsync"
            ],
            "metadata": {},
            "execution_count": 0,
            "outputs": []
        },
        {
            "cell_type": "markdown",
            "source": [
                "<br/><br/><br/><br/><br/><br/><br/><br/><br/><br/><br/><br/><br/><br/><br/><br/><br/><br/><br/><br/><br/><br/><br/><br/><br/><br/><br/><br/><br/><br/><br/><br/><br/><br/><br/><br/><br/><br/><br/><br/>",
                "\n"
            ],
            "metadata": {},
            "execution_count": 0,
            "outputs": []
        },
        {
            "cell_type": "code",
            "source": [
                "var pv = ifrs17.PresentValues;",
                "\npv.ColumnSlices = new[]{\"AmountType\"};",
                "\nawait pv.ToReportAsync"
            ],
            "metadata": {},
            "execution_count": 0,
            "outputs": []
        },
        {
            "cell_type": "code",
            "source": [
                "pv.Scenario = \"MTUP10pct\";",
                "\nawait pv.ToReportAsync"
            ],
            "metadata": {},
            "execution_count": 0,
            "outputs": []
        },
        {
            "cell_type": "code",
            "source": [
                "pv.Scenario = \"All\";",
                "\nawait pv.ToReportAsync"
            ],
            "metadata": {},
            "execution_count": 0,
            "outputs": []
        },
        {
            "cell_type": "code",
            "source": [
                "pv.Scenario = \"Delta\";",
                "\nawait pv.ToReportAsync"
            ],
            "metadata": {},
            "execution_count": 0,
            "outputs": []
        },
        {
            "cell_type": "code",
            "source": [
                "//using Systemorph.Vertex.Pivot.Reporting;",
                "\nvar csm = ifrs17.AllocatedTechnicalMargins;",
                "\ncsm.ReportingPeriod = (2022, 12);",
                "\ncsm.Scenario = null;",
                "\n(await csm.ToReportAsync)",
                "\n    .WithColumns(cols => cols.Modify(\"Value\",c => c.WithFormat(\"typeof(value) == 'number' ? new Intl.NumberFormat('en',{ minimumFractionDigits:0, maximumFractionDigits:0 }).format(value) : value\")))",
                "\n"
            ],
            "metadata": {},
            "execution_count": 0,
            "outputs": []
        },
        {
            "cell_type": "code",
            "source": [
                "csm.ReportingPeriod =  (2023, 1);",
                "\ncsm.Scenario = null;",
                "\nawait csm.ToReportAsync"
            ],
            "metadata": {},
            "execution_count": 0,
            "outputs": []
        },
        {
            "cell_type": "code",
            "source": [
                "csm.Scenario = \"All\";",
                "\n(await csm.ToReportAsync)"
            ],
            "metadata": {},
            "execution_count": 0,
            "outputs": []
        },
        {
            "cell_type": "code",
            "source": [
                "var fp = ifrs17.FinancialPerformance;",
                "\nfp.Scenario = \"Delta\";",
                "\nawait fp.ToReportAsync"
            ],
            "metadata": {},
            "execution_count": 0,
            "outputs": []
        },
        {
            "cell_type": "code",
            "source": [
                ""
            ],
            "metadata": {},
            "execution_count": 0,
            "outputs": []
        }
    ]
}