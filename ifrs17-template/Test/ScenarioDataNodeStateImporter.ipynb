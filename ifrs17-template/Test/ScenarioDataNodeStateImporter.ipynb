{
    "metadata": {
        "authors": [],
        "id": "8AGRn6EDjEm0Kvo27RJFPw",
        "kernelspec": {
            "display_name": "Formula Framework",
            "language": "C#",
            "name": "C#"
        },
        "language_info": {
            "file_extension": ".cs",
            "mimetype": "text/plain",
            "name": "C#"
        }
    },
    "nbformat": 4,
    "nbformat_minor": 5,
    "cells": [
        {
            "cell_type": "markdown",
            "source": [
                "<p style=\"font-weight:bold;\"> <span style=\"font-size: 36px\"> Scenario Parameters Import Test </span> </p>"
            ],
            "metadata": {},
            "execution_count": 0,
            "outputs": []
        },
        {
            "cell_type": "code",
            "source": [
                "#!eval-notebook \"../Initialization/InitSystemorphBaseToMemory\""
            ],
            "metadata": {},
            "execution_count": 0,
            "outputs": []
        },
        {
            "cell_type": "code",
            "source": [
                "DataSource.Reset(x => x.ResetType<RawVariable>().ResetType<IfrsVariable>().ResetType<DataNodeState>());"
            ],
            "metadata": {},
            "execution_count": 0,
            "outputs": []
        },
        {
            "cell_type": "markdown",
            "source": [
                "# Setting Constants"
            ],
            "metadata": {},
            "execution_count": 0,
            "outputs": []
        },
        {
            "cell_type": "code",
            "source": [
                "var EnableScenarioBackup = Scenarios.EnableScenario;"
            ],
            "metadata": {},
            "execution_count": 0,
            "outputs": []
        },
        {
            "cell_type": "code",
            "source": [
                "Scenarios.EnableScenario = true;"
            ],
            "metadata": {},
            "execution_count": 0,
            "outputs": []
        },
        {
            "cell_type": "code",
            "source": [
                "var argsBestEstimate = new ImportArgs (\"CH\", 2020, 12, Periodicity.Quarterly, null, ImportFormats.Cashflow);",
                "\nvar argsScenarioActive = new ImportArgs (\"CH\", 2020, 12, Periodicity.Quarterly, \"DNSCHAct\", ImportFormats.Cashflow);",
                "\nvar argsScenarioInactive = new ImportArgs (\"CH\", 2020, 12, Periodicity.Quarterly, \"DNSCHInact\", ImportFormats.Cashflow);"
            ],
            "metadata": {},
            "execution_count": 0,
            "outputs": []
        },
        {
            "cell_type": "markdown",
            "source": [
                "# Best Estimate initialization"
            ],
            "metadata": {},
            "execution_count": 0,
            "outputs": []
        },
        {
            "cell_type": "code",
            "source": [
                "var dataNodeStateBestEstimateInit = @\"",
                "\n@@Main,,",
                "\nReportingNode,Year,Month",
                "\nCH,2020,12",
                "\n@@DataNodeState,,",
                "\nDataNode,State,",
                "\nDT1.1,Active,",
                "\nDTR1.1,Active\";"
            ],
            "metadata": {},
            "execution_count": 0,
            "outputs": []
        },
        {
            "cell_type": "code",
            "source": [
                "await Import.FromString(dataNodeStateBestEstimateInit).WithFormat(ImportFormats.DataNodeState).WithTarget(DataSource).ExecuteAsync()"
            ],
            "metadata": {},
            "execution_count": 0,
            "outputs": []
        },
        {
            "cell_type": "code",
            "source": [
                "var cashflowBestEstimateInit = @\"",
                "\n@@Main",
                "\nReportingNode,Year,Month,Scenario",
                "\nCH,2020,12,",
                "\n@@Cashflow",
                "\nDataNode,AmountType,EstimateType,AocType,Novelty,AccidentYear,Values0,Values1,Values2,Values3,Values4,Values5,Values6,Values7,Values8,Values9,Values10,Values11,Values12,Values13,Values14,Values15,Values16,Values17,Values18,Values19,Values20,Values21,Values22,Values23",
                "\nDT1.1,PR,BE,CL,C,,100,0,0,100,0,0,100,0,0,100,0,0,0,100,0,0,100,0,0,100,0,0,100,0",
                "\nDT1.1,NIC,BE,CL,C,,-25,-25,-25,-25,-25,-25,-25,-25,-25,-25,-25,-25,-25,-25,-25,-25,-25,-25,-25,-25,-25,-25,-25,-25",
                "\nDT1.1,CU,P,CL,C,,-10,-10,-10,-10,-10,-10,-10,-10,-10,-10,-10,-10,-10,-5,-5,-5,-5,-5,-5,-5,-5,-5,-5,-3",
                "\nDT1.1,,RA,CL,C,,-2.5,-2.5,-2.5,-2.5,-2.5,-2.5,-2.5,-2.5,-2.5,-2.5,-2.5,-2.5,-2.5,-2.5,-2.5,-2.5,-2.5,-2.5,-2.5,-2.5,-2.5,-2.5,-2.5,-2.5",
                "\nDTR1.1,PR,BE,CL,C,,50,0,0,50,0,0,50,0,0,50,0,0,50,0,0,50,0,0,50,0,0,50,0,0",
                "\nDTR1.1,NIC,BE,CL,C,,12.5,12.5,12.5,12.5,12.5,12.5,12.5,12.5,12.5,12.5,12.5,12.5,12.5,12.5,12.5,12.5,12.5,12.5,12.5,12.5,12.5,12.5,12.5,12.5",
                "\nDTR1.1,CU,P,CL,C,,-5,-5,-5,-5,-5,-5,-5,-5,-5,-5,-5,-5,-5,-5,-5,-5,-5,-5,-5,-5,-5,-5,-5,-5",
                "\nDTR1.1,,RA,CL,C,,1.25,1.25,1.25,1.25,1.25,1.25,1.25,1.25,1.25,1.25,1.25,1.25,1.25,1.25,1.25,1.25,1.25,1.25,1.25,1.25,1.25,1.25,1.25,1.25\";"
            ],
            "metadata": {},
            "execution_count": 0,
            "outputs": []
        },
        {
            "cell_type": "code",
            "source": [
                "await Import.FromString(cashflowBestEstimateInit).WithFormat(ImportFormats.Cashflow).WithTarget(DataSource).ExecuteAsync()"
            ],
            "metadata": {},
            "execution_count": 0,
            "outputs": []
        },
        {
            "cell_type": "code",
            "source": [
                "var actualsBestEstimateInit = @\"",
                "\n@@Main",
                "\nReportingNode,Year,Month,Scenario",
                "\nCH,2020,12,",
                "\n@@Actual",
                "\nDataNode,AocType,AmountType,EstimateType,AccidentYear,Value",
                "\nDT1.1,CF,ACA,A,,-10",
                "\nDT1.1,CF,AEA,A,,-5",
                "\nDT1.1,CF,NIC,A,,-280",
                "\nDT1.1,CF,PR,A,,400",
                "\nDTR1.1,CF,PR,A,,-200",
                "\nDTR1.1,CF,NIC,A,,140\";"
            ],
            "metadata": {},
            "execution_count": 0,
            "outputs": []
        },
        {
            "cell_type": "code",
            "source": [
                "await Import.FromString(actualsBestEstimateInit).WithFormat(ImportFormats.Actual).WithTarget(DataSource).ExecuteAsync()"
            ],
            "metadata": {},
            "execution_count": 0,
            "outputs": []
        },
        {
            "cell_type": "code",
            "source": [
                "await DataSource.Partition.SetAsync<PartitionByReportingNodeAndPeriod>(argsBestEstimate);",
                "\nvar ivsBestEstimateInit = await DataSource.Query<IfrsVariable>().ToArrayAsync();",
                "\nvar dnsBestEstimateInit = await DataSource.Query<DataNodeState>().ToArrayAsync();"
            ],
            "metadata": {},
            "execution_count": 0,
            "outputs": []
        },
        {
            "cell_type": "code",
            "source": [
                "dnsBestEstimateInit"
            ],
            "metadata": {},
            "execution_count": 0,
            "outputs": []
        },
        {
            "cell_type": "markdown",
            "source": [
                "# Scenario Data Node State import"
            ],
            "metadata": {},
            "execution_count": 0,
            "outputs": []
        },
        {
            "cell_type": "code",
            "source": [
                "var dataNodeStateActiveScenario = @\"",
                "\n@@Main",
                "\nReportingNode,Year,Month,Scenario,",
                "\nCH,2020,12,DNSCHAct,",
                "\n@@DataNodeState",
                "\nDataNode,State,",
                "\nDT1.2,Active,",
                "\nDTR1.2,Active\";"
            ],
            "metadata": {},
            "execution_count": 0,
            "outputs": []
        },
        {
            "cell_type": "code",
            "source": [
                "static ImportArgs myargs ;",
                "\nstatic Dictionary<string, DataNodeData> mydict;",
                "\nstatic HashSet<string> mytargetDataNodes;",
                "\nstatic ImportArgs[] myallArgs;",
                "\nstatic DataNodeState[] myCommittedStates;",
                "\nstatic DataNodeState[] myToCommitStates;"
            ],
            "metadata": {},
            "execution_count": 0,
            "outputs": []
        },
        {
            "cell_type": "code",
            "source": [
                "public async static Task ValidateDataNodeStatesAsync(this IWorkspace workspace, Dictionary<string, DataNodeData> persistentDataNodeByDataNode)",
                "\n{",
                "\n    foreach(var importedDataNodeState in await workspace.Query<DataNodeState>().ToArrayAsync())",
                "\n    {",
                "\n        if(persistentDataNodeByDataNode.TryGetValue(importedDataNodeState.DataNode, out var currentPersistentDataNode))",
                "\n        {",
                "\n            if(importedDataNodeState.State < currentPersistentDataNode.State)",
                "\n                ApplicationMessage.Log(Error.ChangeDataNodeState, importedDataNodeState.DataNode, ",
                "\n                                                                  currentPersistentDataNode.State.ToString(), ",
                "\n                                                                  importedDataNodeState.State.ToString());",
                "\n",
                "\n            if(importedDataNodeState.State == currentPersistentDataNode.State)",
                "\n                await workspace.DeleteAsync<DataNodeState>(importedDataNodeState);",
                "\n        }",
                "\n    }",
                "\n}"
            ],
            "metadata": {},
            "execution_count": 0,
            "outputs": []
        },
        {
            "cell_type": "code",
            "source": [
                "Import.DefineFormat(ImportFormats.DataNodeState, async (options, dataSet) => {",
                "\n    Activity.Start();",
                "\n    var primaryArgs = GetArgsFromMain(dataSet) with {ImportFormat = ImportFormats.DataNodeState};",
                "\n    myargs = primaryArgs;",
                "\n    primaryArgs.ValidateArgsForPeriodAsync(options.TargetDataSource);",
                "\n    if(ApplicationMessage.HasErrors()) return Activity.Finish();",
                "\n",
                "\n    var workspace = Workspace.CreateNew();",
                "\n    workspace.Initialize(x => x.FromSource(options.TargetDataSource)",
                "\n                               .DisableInitialization<RawVariable>()",
                "\n                               .DisableInitialization<IfrsVariable>()",
                "\n                               .DisableInitialization<DataNodeState>());",
                "\n",
                "\n    var committedStates = await options.TargetDataSource.Query<DataNodeState>().ToArrayAsync();",
                "\n    myCommittedStates = committedStates;",
                "\n    var log = await UploadDataNodeStateToWorkspaceAsync(dataSet, primaryArgs, workspace, options.TargetDataSource);",
                "\n    if(log.Errors.Any()) return Activity.Finish().Merge(log); ",
                "\n    var toCommitStates = (await workspace.Query<DataNodeState>().ToArrayAsync()).Except(committedStates, StatesComparer.Instance()).ToArray();",
                "\n    myToCommitStates = toCommitStates;",
                "\n    if (!toCommitStates.Any()) {",
                "\n        ApplicationMessage.Log(Warning.VariablesAlreadyImported);   ",
                "\n        return Activity.Finish().Merge(log);",
                "\n    }",
                "\n",
                "\n    var allArgs = await GetAllArgsAsync(primaryArgs, options.TargetDataSource, ImportFormats.DataNodeState);",
                "\n    myallArgs = allArgs;",
                "\n    //var targetDataNodes = toCommitStates.Where(x => x.State == State.Active).Select(x => x.DataNode).ToHashSet();",
                "\n    //mytargetDataNodes = targetDataNodes;",
                "\n    var workspaceToCompute = Workspace.CreateNew();",
                "\n    workspaceToCompute.Initialize(x => x.FromSource(options.TargetDataSource).DisableInitialization<RawVariable>());",
                "\n    return Activity.Finish().Merge(log);",
                "\n    foreach (var args in allArgs) { ",
                "\n        await CommitPartitionAsync<PartitionByReportingNodeAndPeriod>(args, workspace, workspaceToCompute);",
                "\n        var targetPartition = (Guid)(await options.TargetDataSource.Partition.GetKeyForInstanceAsync<PartitionByReportingNodeAndPeriod>(args));",
                "\n        var defaultPartition = (Guid)(await options.TargetDataSource.Partition.GetKeyForInstanceAsync<PartitionByReportingNodeAndPeriod>(args with {Scenario = null}));",
                "\n        var previousPartition = (Guid)(await options.TargetDataSource.Partition.GetKeyForInstanceAsync<PartitionByReportingNodeAndPeriod>(args with {Scenario = null, Year = args.Year-1, Month = 12}));",
                "\n        await options.TargetDataSource.Partition.SetAsync<PartitionByReportingNodeAndPeriod>(null);",
                "\n        if(ApplicationMessage.HasErrors()) return Activity.Finish().Merge(log);",
                "\n        ",
                "\n        // Avoid starting the computation if no best estimate cash flow or actuals has ever been imported ",
                "\n        if(!(await options.TargetDataSource.Query<RawVariable>().Where(x => x.Partition == defaultPartition).Take(1).ToArrayAsync()).Any()) continue;",
                "\n",
                "\n        // Rawvariables and ifrsvariables corresponding to the target data nodes are added to the workspace",
                "\n        var rawvariable = await options.TargetDataSource.Query<RawVariable>().Where(//x => targetDataNodes.Contains(x.DataNode) && ",
                "\n                            x.Partition == targetPartition || x.Partition == defaultPartition || x.Partition == previousPartition).ToArrayAsync();",
                "\n        var ifrsvariable = await options.TargetDataSource.Query<IfrsVariable>().Where(//x => targetDataNodes.Contains(x.DataNode) && ",
                "\n                            x.Partition == targetPartition || x.Partition == defaultPartition || x.Partition == previousPartition).ToArrayAsync();",
                "\n        ",
                "\n        if(rawvariable.Any()) await workspaceToCompute.UpdateAsync(rawvariable);",
                "\n        if(ifrsvariable.Any()) await workspaceToCompute.UpdateAsync(ifrsvariable);",
                "\n",
                "\n        log = log.Merge(await ComputeAsync(args, workspace, workspaceToCompute, false));",
                "\n        if(log.Errors.Any()) return Activity.Finish().Merge(log);",
                "\n    }",
                "\n",
                "\n    await workspaceToCompute.UpdateAsync(toCommitStates);",
                "\n    await workspaceToCompute.CommitToTargetAsync(options.TargetDataSource);",
                "\n    await workspace.CommitToAsync<DataNodeState,PartitionByReportingNode>(options.TargetDataSource, ",
                "\n                    (Guid)workspace.Partition.GetCurrent(nameof(PartitionByReportingNode)), snapshot: false);    ",
                "\n    return log;",
                "\n});"
            ],
            "metadata": {},
            "execution_count": 0,
            "outputs": []
        },
        {
            "cell_type": "code",
            "source": [
                "await Import.FromString(dataNodeStateActiveScenario).WithFormat(ImportFormats.DataNodeState).WithTarget(DataSource).ExecuteAsync()"
            ],
            "metadata": {},
            "execution_count": 0,
            "outputs": []
        },
        {
            "cell_type": "code",
            "source": [
                "await DataSource.Query<DataNodeState>().ToArrayAsync()"
            ],
            "metadata": {},
            "execution_count": 0,
            "outputs": []
        },
        {
            "cell_type": "code",
            "source": [
                "myToCommitStates"
            ],
            "metadata": {},
            "execution_count": 0,
            "outputs": []
        },
        {
            "cell_type": "code",
            "source": [
                "mytargetDataNodes"
            ],
            "metadata": {},
            "execution_count": 0,
            "outputs": []
        },
        {
            "cell_type": "code",
            "source": [
                "myallArgs"
            ],
            "metadata": {},
            "execution_count": 0,
            "outputs": []
        },
        {
            "cell_type": "code",
            "source": [
                "await DataSource.Partition.SetAsync<PartitionByReportingNodeAndPeriod>(argsScenarioActive);",
                "\nvar dnsScenarioAct = await DataSource.Query<DataNodeState>().ToArrayAsync();"
            ],
            "metadata": {},
            "execution_count": 0,
            "outputs": []
        },
        {
            "cell_type": "code",
            "source": [
                "dnsScenarioAct"
            ],
            "metadata": {},
            "execution_count": 0,
            "outputs": []
        },
        {
            "cell_type": "code",
            "source": [
                "await DataSource.Partition.SetAsync<PartitionByReportingNodeAndPeriod>(argsBestEstimate);",
                "\nvar dnsBestEstimateAct = await DataSource.Query<DataNodeState>().ToArrayAsync();"
            ],
            "metadata": {},
            "execution_count": 0,
            "outputs": []
        },
        {
            "cell_type": "code",
            "source": [
                "dnsBestEstimateAct"
            ],
            "metadata": {},
            "execution_count": 0,
            "outputs": []
        },
        {
            "cell_type": "code",
            "source": [
                "var diffs = ivsScenarioParameter.Except(ivsBestEstimateInit, IfrsVariableComparer.Instance()).ToArray();"
            ],
            "metadata": {},
            "execution_count": 0,
            "outputs": []
        },
        {
            "cell_type": "code",
            "source": [
                "diffs.Count().Should().NotBe(0);",
                "\ndiffs.Where(x => x.EstimateType == EstimateTypes.C).Count().Should().NotBe(0);"
            ],
            "metadata": {},
            "execution_count": 0,
            "outputs": []
        },
        {
            "cell_type": "markdown",
            "source": [
                "# Re-import of the same parameters should not trigger calculations "
            ],
            "metadata": {},
            "execution_count": 0,
            "outputs": []
        },
        {
            "cell_type": "code",
            "source": [
                "var log = await Import.FromString(parametersScenarios).WithFormat(ImportFormats.DataNodeParameter).WithTarget(DataSource).ExecuteAsync();",
                "\nlog"
            ],
            "metadata": {},
            "execution_count": 0,
            "outputs": []
        },
        {
            "cell_type": "code",
            "source": [
                "((log.Warnings.FirstOrDefault()?.ToString().Remove(0,40).Remove(125,2)?? \"\") == Get(Warning.VariablesAlreadyImported)).Should().Be(true);"
            ],
            "metadata": {},
            "execution_count": 0,
            "outputs": []
        },
        {
            "cell_type": "code",
            "source": [
                "await DataSource.Partition.SetAsync<PartitionByReportingNodeAndPeriod>(argsScenarioParameter);",
                "\nvar ivsScenarioParameterSameReimport = await DataSource.Query<IfrsVariable>().ToArrayAsync();"
            ],
            "metadata": {},
            "execution_count": 0,
            "outputs": []
        },
        {
            "cell_type": "code",
            "source": [
                "var diffs = ivsScenarioParameterSameReimport.Except(ivsScenarioParameter, IfrsVariableComparer.Instance());"
            ],
            "metadata": {},
            "execution_count": 0,
            "outputs": []
        },
        {
            "cell_type": "code",
            "source": [
                "diffs.Count().Should().Be(0);"
            ],
            "metadata": {},
            "execution_count": 0,
            "outputs": []
        },
        {
            "cell_type": "markdown",
            "source": [
                "# Re-import of best estimate cashflow"
            ],
            "metadata": {},
            "execution_count": 0,
            "outputs": []
        },
        {
            "cell_type": "code",
            "source": [
                "var cashflowBestEstimateReImport = @\"",
                "\n@@Main",
                "\nReportingNode,Year,Month,Scenario",
                "\nCH,2020,12,",
                "\n@@Cashflow",
                "\nDataNode,AmountType,EstimateType,AocType,Novelty,AccidentYear,Values0,Values1,Values2,Values3,Values4,Values5,Values6,Values7,Values8,Values9,Values10,Values11,Values12,Values13,Values14,Values15,Values16,Values17,Values18,Values19,Values20,Values21,Values22,Values23",
                "\nDT1.1,PR,BE,CL,C,,131,0,0,111,0,0,111,0,0,111,0,0,0,111,0,0,111,0,0,111,0,0,111,0",
                "\nDT1.1,NIC,BE,CL,C,,-31,-31,-31,-31,-31,-31,-31,-31,-31,-31,-31,-31,-31,-31,-31,-31,-31,-31,-31,-31,-31,-31,-31,-31",
                "\nDT1.1,,CU,CL,C,,-11,-11,-11,-11,-11,-11,-11,-11,-11,-11,-11,-11,-11,-5,-5,-5,-5,-5,-5,-5,-5,-5,-5,-3",
                "\nDT1.1,,RA,CL,C,,-2.6,-2.6,-2.6,-2.6,-2.6,-2.6,-2.6,-2.6,-2.6,-2.6,-2.6,-2.6,-2.6,-2.6,-2.6,-2.6,-2.6,-2.6,-2.6,-2.6,-2.6,-2.6,-2.6,-2.6",
                "\nDTR1.1,PR,BE,CL,C,,51,0,0,51,0,0,51,0,0,51,0,0,51,0,0,51,0,0,51,0,0,51,0,0",
                "\nDTR1.1,NIC,BE,CL,C,,13,13,13,13,13,13,13,13,13,13,13,13,13,13,13,13,13,13,13,13,13,13,13,13",
                "\nDTR1.1,,CU,CL,C,,-5,-5,-5,-5,-5,-5,-5,-5,-5,-5,-5,-5,-5,-5,-5,-5,-5,-5,-5,-5,-5,-5,-5,-5",
                "\nDTR1.1,,RA,CL,C,,1.31,1.31,1.31,1.31,1.31,1.31,1.31,1.31,1.31,1.31,1.31,1.31,1.31,1.31,1.31,1.31,1.31,1.31,1.31,1.31,1.31,1.31,1.31,1.31\";"
            ],
            "metadata": {},
            "execution_count": 0,
            "outputs": []
        },
        {
            "cell_type": "code",
            "source": [
                "await Import.FromString(cashflowBestEstimateReImport).WithFormat(ImportFormats.Cashflow).WithTarget(DataSource).ExecuteAsync()"
            ],
            "metadata": {},
            "execution_count": 0,
            "outputs": []
        },
        {
            "cell_type": "markdown",
            "source": [
                "## Best Estimate change"
            ],
            "metadata": {},
            "execution_count": 0,
            "outputs": []
        },
        {
            "cell_type": "code",
            "source": [
                "await DataSource.Partition.SetAsync<PartitionByReportingNodeAndPeriod>(argsBestEstimate);",
                "\nvar ivsBestEstimateReimport = await DataSource.Query<IfrsVariable>().ToArrayAsync();"
            ],
            "metadata": {},
            "execution_count": 0,
            "outputs": []
        },
        {
            "cell_type": "code",
            "source": [
                "var diffs = ivsBestEstimateReimport.Except(ivsBestEstimateInit, IfrsVariableComparer.Instance());"
            ],
            "metadata": {},
            "execution_count": 0,
            "outputs": []
        },
        {
            "cell_type": "code",
            "source": [
                "diffs.Count().Should().NotBe(0);"
            ],
            "metadata": {},
            "execution_count": 0,
            "outputs": []
        },
        {
            "cell_type": "markdown",
            "source": [
                "## Scenario should change"
            ],
            "metadata": {},
            "execution_count": 0,
            "outputs": []
        },
        {
            "cell_type": "code",
            "source": [
                "await DataSource.Partition.SetAsync<PartitionByReportingNodeAndPeriod>(argsScenarioParameter);",
                "\nvar ivsScenarioParameterReimportBestEstimateCashflow = await DataSource.Query<IfrsVariable>().ToArrayAsync();"
            ],
            "metadata": {},
            "execution_count": 0,
            "outputs": []
        },
        {
            "cell_type": "code",
            "source": [
                "var diffs = ivsScenarioParameterReimportBestEstimateCashflow.Except(ivsScenarioParameter, IfrsVariableComparer.Instance());"
            ],
            "metadata": {},
            "execution_count": 0,
            "outputs": []
        },
        {
            "cell_type": "code",
            "source": [
                "diffs.Count().Should().NotBe(0);"
            ],
            "metadata": {},
            "execution_count": 0,
            "outputs": []
        },
        {
            "cell_type": "markdown",
            "source": [
                "# Re-import of scenario parameters"
            ],
            "metadata": {},
            "execution_count": 0,
            "outputs": []
        },
        {
            "cell_type": "code",
            "source": [
                "var parametersScenariosReimport = @\"",
                "\n@@Main",
                "\nReportingNode,Year,Month,Scenario",
                "\nCH,2020,12,DUP10pct",
                "\n@@SingleDataNodeParameter",
                "\nDataNode,PremiumAllocation",
                "\nDT1.1,0.23",
                "\n@@InterDataNodeParameter",
                "\nDataNode,LinkedDataNode,ReinsuranceCoverage",
                "\nDT1.1,DTR1.1,0.23\";"
            ],
            "metadata": {},
            "execution_count": 0,
            "outputs": []
        },
        {
            "cell_type": "code",
            "source": [
                "await Import.FromString(parametersScenariosReimport).WithFormat(ImportFormats.DataNodeParameter).WithTarget(DataSource).ExecuteAsync()"
            ],
            "metadata": {},
            "execution_count": 0,
            "outputs": []
        },
        {
            "cell_type": "code",
            "source": [
                "await DataSource.Partition.SetAsync<PartitionByReportingNodeAndPeriod>(argsScenarioParameter);",
                "\nvar ivsScenarioParameterReimport = await DataSource.Query<IfrsVariable>().ToArrayAsync();"
            ],
            "metadata": {},
            "execution_count": 0,
            "outputs": []
        },
        {
            "cell_type": "code",
            "source": [
                "var diffs = ivsScenarioParameterReimport.Except(ivsScenarioParameterReimportBestEstimateCashflow, IfrsVariableComparer.Instance());"
            ],
            "metadata": {},
            "execution_count": 0,
            "outputs": []
        },
        {
            "cell_type": "code",
            "source": [
                "diffs.Count().Should().NotBe(0);"
            ],
            "metadata": {},
            "execution_count": 0,
            "outputs": []
        },
        {
            "cell_type": "markdown",
            "source": [
                "# Restore constants"
            ],
            "metadata": {},
            "execution_count": 0,
            "outputs": []
        },
        {
            "cell_type": "code",
            "source": [
                "Scenarios.EnableScenario = EnableScenarioBackup;"
            ],
            "metadata": {},
            "execution_count": 0,
            "outputs": []
        },
        {
            "cell_type": "code",
            "source": [
                ""
            ],
            "metadata": {},
            "execution_count": 0,
            "outputs": []
        }
    ]
}