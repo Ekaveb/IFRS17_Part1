{
    "metadata": {
        "authors": [],
        "id": "PZbLTFe3k067hSRGQYdOfA",
        "kernelspec": {
            "display_name": "Formula Framework",
            "language": "C#",
            "name": "C#"
        },
        "language_info": {
            "file_extension": ".cs",
            "mimetype": "text/plain",
            "name": "C#"
        }
    },
    "nbformat": 4,
    "nbformat_minor": 5,
    "cells": [
        {
            "cell_type": "markdown",
            "source": [
                "<p style=\"font-weight:bold;\"> <span style=\"font-size: 36px\"> IFRS 4 Positions </span> </p>"
            ],
            "metadata": {},
            "execution_count": 0,
            "outputs": []
        },
        {
            "cell_type": "markdown",
            "source": [
                "bla"
            ],
            "metadata": {},
            "execution_count": 0,
            "outputs": []
        },
        {
            "cell_type": "markdown",
            "source": [
                "# Setup"
            ],
            "metadata": {},
            "execution_count": 0,
            "outputs": []
        },
        {
            "cell_type": "code",
            "source": [
                "//#!import \"//ifrs17/v1.1.1/CalculationEngine\"",
                "\n#!import \"../../../ifrs17/CalculationEngine\""
            ],
            "metadata": {},
            "execution_count": 0,
            "outputs": []
        },
        {
            "cell_type": "markdown",
            "source": [
                "# Positions"
            ],
            "metadata": {},
            "execution_count": 0,
            "outputs": []
        },
        {
            "cell_type": "code",
            "source": [
                "public interface IWithGetValueFromValues : IScope<ImportIdentity, ImportStorage>",
                "\n{",
                "\n    private int shift => GetStorage().GetShift(0);",
                "\n    private int timeStep => GetStorage().GetTimeStep(0);",
                "\n    ",
                "\n    public double GetValueFromValues(double[] Values) => GetStorage().GetValuationPeriod(Identity) switch {",
                "\n        ValuationPeriod.BeginningOfPeriod => Values.ElementAtOrDefault(shift),",
                "\n        ValuationPeriod.MidOfPeriod => Values.ElementAtOrDefault(shift + Convert.ToInt32(Math.Round(timeStep / 2d, MidpointRounding.AwayFromZero)) - 1),",
                "\n        ValuationPeriod.Delta => Values.Skip(shift).Take(timeStep).Sum(),",
                "\n        ValuationPeriod.EndOfPeriod  => Values.ElementAtOrDefault(shift + timeStep),",
                "\n        ValuationPeriod.NotApplicable => default };",
                "\n}"
            ],
            "metadata": {},
            "execution_count": 0,
            "outputs": []
        },
        {
            "cell_type": "code",
            "source": [
                "public interface NominalTechnicalMargin : IScope<ImportIdentity, ImportStorage>, IWithGetValueFromValues",
                "\n{",
                "\n    static ApplicabilityBuilder ScopeApplicabilityBuilder(ApplicabilityBuilder builder) => ",
                "\n        builder.ForScope<NominalTechnicalMargin>(s => s.WithApplicability<NominalTechnicalMarginDefaultValue>(x => x.Identity.AocType == AocTypes.BOP && x.Identity.Novelty == Novelties.I)",
                "\n                                                       .WithApplicability<NominalTechnicalMarginDefaultValue>(x => x.Identity.AocType == AocTypes.CF || x.Identity.AocType == AocTypes.IA ||",
                "\n                                                                                                                   x.Identity.AocType == AocTypes.EA || x.Identity.AocType == AocTypes.AM ));",
                "\n    ",
                "\n    [NotVisible] string EconomicBasis => EconomicBases.L;",
                "\n",
                "\n    double Value => GetScope<ValidAmountType>(Identity.DataNode).BeAmountTypes.Except(GetStorage().GetNonAttributableAmountType())",
                "\n                        .Sum(at => GetValueFromValues(GetScope<NominalCashflow>((Identity, at, EstimateTypes.BE, (int?)null), o => o.WithContext(EconomicBasis)).Values)) ",
                "\n                        + GetScope<RaLocked>(Identity).Value;",
                "\n",
                "\n    double AggregatedValue => GetScope<PreviousAocSteps>((Identity, InputSource.Cashflow)).Values",
                "\n                                .Sum(aoc => GetScope<NominalTechnicalMargin>(Identity with {AocType = aoc.AocType, Novelty = aoc.Novelty}).Value);",
                "\n}",
                "\n",
                "\npublic interface NominalTechnicalMarginDefaultValue : NominalTechnicalMargin",
                "\n{",
                "\n    double NominalTechnicalMargin.Value => default;",
                "\n}"
            ],
            "metadata": {},
            "execution_count": 0,
            "outputs": []
        },
        {
            "cell_type": "code",
            "source": [
                "Import.DefineFormat(\"IFRS 4 Cashflow\", async (options, dataSet) => {",
                "\n    Activity.Start();",
                "\n    var args = await GetArgsAndCommitPartitionAsync<PartitionByReportingNodeAndPeriod>(dataSet, options.TargetDataSource) with {ImportFormat = ImportFormats.Cashflow};",
                "\n    if(Activity.HasErrors()) return Activity.Finish();",
                "\n",
                "\n    await DataNodeFactoryAsync(dataSet, ImportFormats.Cashflow, args, options.TargetDataSource);",
                "\n    if(Activity.HasErrors()) return Activity.Finish();",
                "\n    ",
                "\n    var workspace = Workspace.CreateNew();",
                "\n    var log = await ParseCashflowsToWorkspaceAsync(dataSet, args, workspace, options.TargetDataSource);",
                "\n    if(log.Errors.Any()) return Activity.Finish().Merge(log);",
                "\n",
                "\n    var workspaceToCompute = Workspace.CreateNew();",
                "\n    workspaceToCompute.Initialize(x => x.FromSource(options.TargetDataSource));",
                "\n    var storage = new ImportStorage(args, workspaceToCompute, workspace);",
                "\n    await storage.InitializeAsync();",
                "\n    if(Activity.HasErrors()) return Activity.Finish().Merge(log);",
                "\n",
                "\n    var universe = Scopes.ForStorage(storage).ToScope<IModel>();",
                "\n    var identities = universe.GetScopes<GetIdentities>(storage.DataNodesByImportScope[ImportScope.Primary]).SelectMany(s => s.Identities);",
                "\n    var ivs = universe.GetScopes<NominalTechnicalMargin>(identities).Select(x => new IfrsVariable{ EstimateType = \"IFRS4EQ\",",
                "\n                                                                                                   DataNode = x.Identity.DataNode,",
                "\n                                                                                                   AocType = x.Identity.AocType,",
                "\n                                                                                                   Novelty = x.Identity.Novelty,",
                "\n                                                                                                   Value = x.Value,",
                "\n                                                                                                   Partition = storage.TargetPartition });",
                "\n    if(Activity.HasErrors()) return Activity.Finish().Merge(log);",
                "\n",
                "\n    workspace.Reset(x => x.ResetType<IfrsVariable>());",
                "\n    await workspace.UpdateAsync<IfrsVariable>(ivs.Where(x => storage.DefaultPartition != storage.TargetPartition || Math.Abs(x.Value) >= Precision));",
                "\n    await workspace.CommitToAsync<IfrsVariable,PartitionByReportingNodeAndPeriod>(workspaceToCompute, storage.TargetPartition, snapshot : false);",
                "\n        //filter : x => storage.EstimateTypesByImportFormat[args.ImportFormat].Contains(x.EstimateType) && storage.DataNodesByImportScope[ImportScope.Primary].Contains(x.DataNode));",
                "\n    if(log.Errors.Any()) return Activity.Finish().Merge(log);",
                "\n",
                "\n    await workspaceToCompute.CommitToTargetAsync(options.TargetDataSource);  // TODO: substitute workspaceToCompute with options.TargetDataSource",
                "\n    return Activity.Finish().Merge(log); ",
                "\n});"
            ],
            "metadata": {},
            "execution_count": 0,
            "outputs": []
        },
        {
            "cell_type": "code",
            "source": [
                ""
            ],
            "metadata": {},
            "execution_count": 0,
            "outputs": []
        },
        {
            "cell_type": "code",
            "source": [
                ""
            ],
            "metadata": {},
            "execution_count": 0,
            "outputs": []
        }
    ]
}