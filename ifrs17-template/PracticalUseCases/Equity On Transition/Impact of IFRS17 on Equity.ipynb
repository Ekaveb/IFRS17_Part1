{
    "metadata": {
        "authors": [],
        "id": "ZJzQfYFHBk2uo16IvjYwvQ",
        "kernelspec": {
            "display_name": "Formula Framework",
            "language": "C#",
            "name": "C#"
        },
        "language_info": {
            "file_extension": ".cs",
            "mimetype": "text/plain",
            "name": "C#"
        }
    },
    "nbformat": 4,
    "nbformat_minor": 5,
    "cells": [
        {
            "cell_type": "markdown",
            "source": [
                "<p style=\"font-weight:bold;\"> <span style=\"font-size: 36px\"> Market updates on impact of IFRS 17 and IFRS 9 </span> </p>",
                "\n",
                "\n<p style=\"font-weight:bold;\"> <span style=\"font-size: 21px\"> Updates on Shareholders equity for transition to the new accounting standard </span> </p>"
            ],
            "metadata": {},
            "execution_count": 0,
            "outputs": []
        },
        {
            "cell_type": "markdown",
            "source": [
                "# Accounting standards"
            ],
            "metadata": {},
            "execution_count": 0,
            "outputs": []
        },
        {
            "cell_type": "markdown",
            "source": [
                "## IFRS 4"
            ],
            "metadata": {},
            "execution_count": 0,
            "outputs": []
        },
        {
            "cell_type": "markdown",
            "source": [
                "// TODO: to be reviewed",
                "\n",
                "\nIFRS 4 was introduced as an intermediary accounting standard between older established standards, primarily US GAAP, and the new standard IFRS 17.",
                "\n",
                "\nOn the liability side of the balance sheet, IFRS 4 allows provisions for future claims, benefits and expenses (and also expected premiums to be received in the future) to be accounted at nominal value, i.e. **undiscounted**, as in older standards.  IFRS 4 alternatively welcomes methods closer to a fair value accounting, i.e. discounting some expected future cash flows, which some insurers actually do to a certain extent.",
                "\n",
                "\nThe liabilities are accounted for in this sense, leading to a sum of liabilities which also includes and some smaller amounts, here summarized as \"other liabilities\".  Two main newly introduced liability concepts, the Contractual Service Margin (CSM) and the Risk Adjustment (RA), are unknown in IFRS 4, so they do not exist in the sum of liabilities.",
                "\n",
                "\nThe Shareholders' Equity is defined in the standard way:",
                "\n",
                "\n**Shareholders' Equity  =  Total Assets  -  Sum of Liabilities** ",
                "\n",
                "\nThe presented example assumes undiscounted IFRS 4 liabilities for the sake of a clear comparison to IFRS 17."
            ],
            "metadata": {},
            "execution_count": 0,
            "outputs": []
        },
        {
            "cell_type": "markdown",
            "source": [
                "In the next line the IFRS 4 business logic is imported:"
            ],
            "metadata": {},
            "execution_count": 0,
            "outputs": []
        },
        {
            "cell_type": "code",
            "source": [
                "#!import \"Ifrs 4 Positions\""
            ],
            "metadata": {},
            "execution_count": 0,
            "outputs": []
        },
        {
            "cell_type": "markdown",
            "source": [
                "## IFRS 17"
            ],
            "metadata": {},
            "execution_count": 0,
            "outputs": []
        },
        {
            "cell_type": "markdown",
            "source": [
                "// TODO: @Ulri here pls place rules and explanations about the novel items and concepts that IFRS 17 brought to the insurance industry",
                "\n",
                "\nA fundamental concept introduced by IFRS 17 is the **Contractual Service Margin** (**CSM**).  The basic idea is that profits should not figure in a balance sheet if they are expected to materialize after the as-of date of the balance sheet. Instead, these expected future profits constitute the CSM, a liability to be added to the sum of liabilities and thus reducing the Shareholders' Equity, following the definition",
                "\n",
                "\nShareholders' Equity  =  Total Assets  -  Sum of Liabilities",
                "\n",
                "\nThe other",
                "\n",
                "\n",
                "\nand the Risk Adjustment (RA)"
            ],
            "metadata": {},
            "execution_count": 0,
            "outputs": []
        },
        {
            "cell_type": "markdown",
            "source": [
                "In the next line the IFRS 17 business logic is imported:"
            ],
            "metadata": {},
            "execution_count": 0,
            "outputs": []
        },
        {
            "cell_type": "code",
            "source": [
                "//#!import \"//ifrs17/v1.1.1/CalculationEngine\"",
                "\n#!import \"../../../ifrs17/CalculationEngine\""
            ],
            "metadata": {},
            "execution_count": 0,
            "outputs": []
        },
        {
            "cell_type": "markdown",
            "source": [
                "# Case Study"
            ],
            "metadata": {},
            "execution_count": 0,
            "outputs": []
        },
        {
            "cell_type": "markdown",
            "source": [
                "// TODO: @Ulri here pls place relevant info that would allow an unexperienced analyst to understand what to expect from the transition to the new standard with respect to the **equity**",
                "\n",
                "\nWe study ..."
            ],
            "metadata": {},
            "execution_count": 0,
            "outputs": []
        },
        {
            "cell_type": "code",
            "source": [
                ""
            ],
            "metadata": {},
            "execution_count": 0,
            "outputs": []
        },
        {
            "cell_type": "markdown",
            "source": [
                "# FROM HERE ON ANDREA IS WORKING"
            ],
            "metadata": {},
            "execution_count": 0,
            "outputs": []
        },
        {
            "cell_type": "markdown",
            "source": [
                "## Data Import"
            ],
            "metadata": {},
            "execution_count": 0,
            "outputs": []
        },
        {
            "cell_type": "markdown",
            "source": [
                "### Dimension Initialization"
            ],
            "metadata": {},
            "execution_count": 0,
            "outputs": []
        },
        {
            "cell_type": "code",
            "source": [
                "#!eval-notebook \"Dimensions Initialization\""
            ],
            "metadata": {},
            "execution_count": 0,
            "outputs": []
        },
        {
            "cell_type": "markdown",
            "source": [
                "### Data Nodes"
            ],
            "metadata": {},
            "execution_count": 0,
            "outputs": []
        },
        {
            "cell_type": "code",
            "source": [
                "await Import.FromFile(\"../../Files/DataNodes/DataNodes_CH.csv\").WithFormat(ImportFormats.DataNode).WithTarget(DataSource).ExecuteAsync()"
            ],
            "metadata": {},
            "execution_count": 0,
            "outputs": []
        },
        {
            "cell_type": "markdown",
            "source": [
                "### Transactional Data"
            ],
            "metadata": {},
            "execution_count": 0,
            "outputs": []
        },
        {
            "cell_type": "code",
            "source": [
                "await Import.FromFile(\"../../Files/TransactionalData/NominalCashflows_CH_2020_12.csv\").WithFormat(ImportFormats.Cashflow).WithTarget(DataSource).ExecuteAsync()"
            ],
            "metadata": {},
            "execution_count": 0,
            "outputs": []
        },
        {
            "cell_type": "code",
            "source": [
                "await Import.FromFile(\"../../Files/TransactionalData/Actuals_CH_2020_12.csv\").WithFormat(ImportFormats.Actual).WithTarget(DataSource).WithActivityLog().ExecuteAsync()"
            ],
            "metadata": {},
            "execution_count": 0,
            "outputs": []
        },
        {
            "cell_type": "markdown",
            "source": [
                "### IFRS 4 Import "
            ],
            "metadata": {},
            "execution_count": 0,
            "outputs": []
        },
        {
            "cell_type": "code",
            "source": [
                "await Import.FromFile(\"../../Files/TransactionalData/NominalCashflows_CH_2020_12.csv\").WithFormat(\"IFRS 4 Cashflow\").WithTarget(DataSource).ExecuteAsync()"
            ],
            "metadata": {},
            "execution_count": 0,
            "outputs": []
        },
        {
            "cell_type": "markdown",
            "source": [
                "## Results Analysis"
            ],
            "metadata": {},
            "execution_count": 0,
            "outputs": []
        },
        {
            "cell_type": "code",
            "source": [
                "var ReportingNode = \"CH\";",
                "\nvar Year = 2020;",
                "\nvar Month = 12; ",
                "\nvar Scenario = default(string);"
            ],
            "metadata": {},
            "execution_count": 0,
            "outputs": []
        },
        {
            "cell_type": "code",
            "source": [
                "var ifrs4Equity = (await Workspace.QueryReportVariablesAsync((Year, Month, ReportingNode, Scenario)))",
                "\n    .Where(x => x.EstimateType == \"IFRS4EQ\" && x.VariableType == \"BOP\" && x.LiabilityType == \"LRC\").ToDataCube();"
            ],
            "metadata": {},
            "execution_count": 0,
            "outputs": []
        },
        {
            "cell_type": "code",
            "source": [
                "var ifrs17Equity = (await Workspace.QueryReportVariablesAsync((Year, Month, ReportingNode, Scenario)))",
                "\n    .Where(x => x.EstimateType == \"C\" && x.VariableType == \"AM\" && x.LiabilityType == \"LRC\").Select(x => x with { EstimateType = \"IFRS17EQ\", Value = -x.Value }).ToDataCube();"
            ],
            "metadata": {},
            "execution_count": 0,
            "outputs": []
        },
        {
            "cell_type": "code",
            "source": [
                "var ifrs17CSM = (await Workspace.QueryReportVariablesAsync((Year, Month, ReportingNode, Scenario)))",
                "\n    .Where(x => x.EstimateType == \"C\" && x.VariableType == \"BOP\" && x.LiabilityType == \"LRC\").Select(x => x with { EstimateType = \"IFRS17CSM\" }).ToDataCube();"
            ],
            "metadata": {},
            "execution_count": 0,
            "outputs": []
        },
        {
            "cell_type": "code",
            "source": [
                "var ifrs17EquityPlusCSM = ifrs17Equity.Select(x => x with { EstimateType = \"IFRS17EQCSM\" }).ToDataCube() ",
                "\n                        + ifrs17CSM.Select(x => x with { EstimateType = \"IFRS17EQCSM\" }).ToDataCube();"
            ],
            "metadata": {},
            "execution_count": 0,
            "outputs": []
        },
        {
            "cell_type": "code",
            "source": [
                "var equity = ifrs4Equity + ifrs17Equity + ifrs17EquityPlusCSM;"
            ],
            "metadata": {},
            "execution_count": 0,
            "outputs": []
        },
        {
            "cell_type": "code",
            "source": [
                "(ifrs4Equity.Aggregate().Value, ifrs17Equity.Aggregate().Value, ifrs17EquityPlusCSM.Aggregate().Value)"
            ],
            "metadata": {},
            "execution_count": 0,
            "outputs": []
        },
        {
            "cell_type": "markdown",
            "source": [
                "### Reports"
            ],
            "metadata": {},
            "execution_count": 0,
            "outputs": []
        },
        {
            "cell_type": "markdown",
            "source": [
                "We can confirm with the current mock cash flows that, due to accounting for CSM, shareholder's equity will reduce.",
                "\n",
                "\nHowever, the sum of Equity plus CSM is greater than Equity under IFRS 4. "
            ],
            "metadata": {},
            "execution_count": 0,
            "outputs": []
        },
        {
            "cell_type": "code",
            "source": [
                "await Report.ForDataCube(equity)",
                "\n            .WithQuerySource(DataSource)",
                "\n            .SliceRowsBy(new string[]{})",
                "\n            .SliceColumnsBy(new string[]{\"EstimateType\"})",
                "\n            .ToTable()",
                "\n            .WithOptions(x => x.WithColumns(cols => cols.Modify(\"Value\", c => c.WithWidth(400))).WithAutoGroupColumn(c => c.WithWidth(400) with { Pinned = \"left\" }))",
                "\n            .ExecuteAsync()"
            ],
            "metadata": {},
            "execution_count": 0,
            "outputs": []
        },
        {
            "cell_type": "code",
            "source": [
                "await Report.ForDataCube(equity)",
                "\n            .WithQuerySource(DataSource)",
                "\n            .SliceRowsBy(new string[]{})",
                "\n            .SliceColumnsBy(new string[]{\"EstimateType\"})",
                "\n            .ToBarChart()",
                "\n//            .WithOptions(x => x.WithColumns(cols => cols.Modify(\"Value\", c => c.WithWidth(400))).WithAutoGroupColumn(c => c.WithWidth(400) with { Pinned = \"left\" }))",
                "\n            .ExecuteAsync()"
            ],
            "metadata": {},
            "execution_count": 0,
            "outputs": []
        },
        {
            "cell_type": "markdown",
            "source": [
                "TODO:",
                "\n",
                "\n@Ulri: produce the tool in excel",
                "\n",
                "\nfew input figures",
                "\n",
                "\n@Andrea: translate tool in SMAPP"
            ],
            "metadata": {},
            "execution_count": 0,
            "outputs": []
        },
        {
            "cell_type": "markdown",
            "source": [
                "<br/><br/><br/><br/><br/><br/><br/><br/>",
                "\n",
                "\n# Testing "
            ],
            "metadata": {},
            "execution_count": 0,
            "outputs": []
        },
        {
            "cell_type": "code",
            "source": [
                "ifrs4Results",
                "\n//.Select(x => x.ToIdentityString())",
                "\n.Select(x => (x.VariableType, x.Novelty, x.LineOfBusiness, x.LiabilityType, x.GroupOfContract, x.AmountType, x.EconomicBasis, x.Currency, x.ContractualCurrency, x.Value));"
            ],
            "metadata": {},
            "execution_count": 0,
            "outputs": []
        },
        {
            "cell_type": "code",
            "source": [
                "ifrs17Results",
                "\n//.Select(x => x.ToIdentityString())",
                "\n.Select(x => (x.VariableType, x.Novelty, x.LineOfBusiness, x.LiabilityType, x.GroupOfContract, x.AmountType, x.EconomicBasis, x.Currency, x.ContractualCurrency, x.Value));"
            ],
            "metadata": {},
            "execution_count": 0,
            "outputs": []
        },
        {
            "cell_type": "code",
            "source": [
                ""
            ],
            "metadata": {},
            "execution_count": 0,
            "outputs": []
        },
        {
            "cell_type": "code",
            "source": [
                "DataSource.Query<IfrsVariable>().Where(x => x.EstimateType == \"IFRS4EQ\" && x.AocType == \"BOP\");"
            ],
            "metadata": {},
            "execution_count": 0,
            "outputs": []
        },
        {
            "cell_type": "code",
            "source": [
                "DataSource.Query<IfrsVariable>().Where(x => x.EstimateType == \"C\");"
            ],
            "metadata": {},
            "execution_count": 0,
            "outputs": []
        },
        {
            "cell_type": "code",
            "source": [
                "//var pv = ifrs17.PresentValues;",
                "\n//pv.ReportingNode = \"CH\";",
                "\n//pv.ReportingPeriod = (2020, 12);",
                "\n//await pv.ToReportAsync"
            ],
            "metadata": {},
            "execution_count": 0,
            "outputs": []
        },
        {
            "cell_type": "code",
            "source": [
                "//await pv.GetStorage().InitializeAsync(pv.ReportingPeriod, pv.ReportingNode, (string)null, pv.CurrencyType);",
                "\n//pv.GetScope<Data>((pv.ReportingPeriod, pv.ReportingNode, (string)null, pv.CurrencyType, nameof(PvReport), Enumerable.Empty<(string, object)>().ToArray())).Cube"
            ],
            "metadata": {},
            "execution_count": 0,
            "outputs": []
        },
        {
            "cell_type": "code",
            "source": [
                "//pv.GetScope<IIfrs17Report>(nameof(PvReport)).GetDataCube()"
            ],
            "metadata": {},
            "execution_count": 0,
            "outputs": []
        },
        {
            "cell_type": "code",
            "source": [
                "var technicalMargins = ifrs17.TechnicalMargins;",
                "\ntechnicalMargins.ReportingNode = \"CH\";",
                "\ntechnicalMargins.ReportingPeriod = (2020, 12);",
                "\ntechnicalMargins.ColumnSlices = new string[]{};                                    //\"GroupOfContract\", \"AmountType\"",
                "\ntechnicalMargins.DataFilter = new [] {(\"GroupOfContract\", \"DT1.1\")};               //new [] {(\"GroupOfContract\", \"DT1.1\")};",
                "\nawait technicalMargins.ToReportAsync"
            ],
            "metadata": {},
            "execution_count": 0,
            "outputs": []
        },
        {
            "cell_type": "code",
            "source": [
                "var financialPerformance = ifrs17.FinancialPerformance;",
                "\nfinancialPerformance.ReportingNode = \"CH\";",
                "\nfinancialPerformance.ReportingPeriod = (2020, 12);",
                "\nfinancialPerformance.ColumnSlices = new string[]{};                                 //\"GroupOfContract\"",
                "\nfinancialPerformance.DataFilter = new [] {(\"GroupOfContract\", \"DT1.1\")};            //new [] {(\"GroupOfContract\", \"DT1.1\")};",
                "\n(await financialPerformance.ToReportAsync) with {GroupDefaultExpanded = 3}"
            ],
            "metadata": {},
            "execution_count": 0,
            "outputs": []
        },
        {
            "cell_type": "code",
            "source": [
                ""
            ],
            "metadata": {},
            "execution_count": 0,
            "outputs": []
        },
        {
            "cell_type": "code",
            "source": [
                ""
            ],
            "metadata": {},
            "execution_count": 0,
            "outputs": []
        },
        {
            "cell_type": "code",
            "source": [
                ""
            ],
            "metadata": {},
            "execution_count": 0,
            "outputs": []
        }
    ]
}