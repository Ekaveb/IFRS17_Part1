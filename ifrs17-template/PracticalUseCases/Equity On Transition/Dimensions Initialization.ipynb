{
    "metadata": {
        "authors": [],
        "id": "8ugSfiIm9UGHy50U_JefnQ",
        "kernelspec": {
            "display_name": "Formula Framework",
            "language": "C#",
            "name": "C#"
        },
        "language_info": {
            "file_extension": ".cs",
            "mimetype": "text/plain",
            "name": "C#"
        }
    },
    "nbformat": 4,
    "nbformat_minor": 5,
    "cells": [
        {
            "cell_type": "markdown",
            "source": [
                "<p style=\"font-weight:bold;\"> <span style=\"font-size: 36px\"> Dimensions Initialization </span> </p>"
            ],
            "metadata": {},
            "execution_count": 0,
            "outputs": []
        },
        {
            "cell_type": "markdown",
            "source": [
                "This notebook provides a compact initialization of the basic dimensions."
            ],
            "metadata": {},
            "execution_count": 0,
            "outputs": []
        },
        {
            "cell_type": "markdown",
            "source": [
                "# Setup"
            ],
            "metadata": {},
            "execution_count": 0,
            "outputs": []
        },
        {
            "cell_type": "code",
            "source": [
                "//#!import \"//ifrs17/v1.1.1/Initialization/InitSystemorphRefDataToMemory\"",
                "\n#!eval-notebook \"../../Initialization/InitSystemorphRefDataToMemory\""
            ],
            "metadata": {},
            "execution_count": 0,
            "outputs": []
        },
        {
            "cell_type": "code",
            "source": [
                "await DataSource.UpdateAsync( new[]{ new EstimateType {InputSource = InputSource.Cashflow, StructureType = StructureType.None, PeriodType = PeriodType.NotApplicable, ",
                "\n                                                       Order = 24, SystemName = \"IFRS4EQ\", DisplayName = \"IFRS 4 Equity\" }, ",
                "\n                                     new EstimateType {InputSource = InputSource.Cashflow, StructureType = StructureType.None, PeriodType = PeriodType.NotApplicable, ",
                "\n                                                       Order = 25, SystemName = \"IFRS17EQ\", DisplayName = \"IFRS 17 Equity\" },",
                "\n                                     new EstimateType {InputSource = InputSource.Cashflow, StructureType = StructureType.None, PeriodType = PeriodType.NotApplicable, ",
                "\n                                                       Order = 26, SystemName = \"IFRS17EQCSM\", DisplayName = \"IFRS 17 Equity + CSM\" } } );"
            ],
            "metadata": {},
            "execution_count": 0,
            "outputs": []
        },
        {
            "cell_type": "markdown",
            "source": [
                "# Reset"
            ],
            "metadata": {},
            "execution_count": 0,
            "outputs": []
        },
        {
            "cell_type": "code",
            "source": [
                "Workspace.Reset(x => x.ResetInitializationRules().ResetCurrentPartitions());"
            ],
            "metadata": {},
            "execution_count": 0,
            "outputs": []
        },
        {
            "cell_type": "code",
            "source": [
                "Workspace.InitializeFrom(DataSource);"
            ],
            "metadata": {},
            "execution_count": 0,
            "outputs": []
        },
        {
            "cell_type": "code",
            "source": [
                "ifrs17.Reset(Workspace)"
            ],
            "metadata": {},
            "execution_count": 0,
            "outputs": []
        },
        {
            "cell_type": "code",
            "source": [
                ""
            ],
            "metadata": {},
            "execution_count": 0,
            "outputs": []
        }
    ]
}