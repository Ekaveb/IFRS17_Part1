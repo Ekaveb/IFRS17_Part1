{
    "metadata": {
        "authors": [],
        "id": "g3NdhaQ--EuUMdGzE2s_Vg",
        "kernelspec": {
            "display_name": "Formula Framework",
            "language": "C#",
            "name": "C#"
        },
        "language_info": {
            "file_extension": ".cs",
            "mimetype": "text/plain",
            "name": "C#"
        }
    },
    "nbformat": 4,
    "nbformat_minor": 5,
    "cells": [
        {
            "cell_type": "markdown",
            "source": [
                "<a id='report-scopes-earnings-kpi'></a>",
                "\n<p style=\"font-weight:bold;\"> <span style=\"font-size: 36px\"> Reports for Earnings KPIs</span> </p>",
                "\n",
                "\nEarnings KPIs are defined at [\"Report Scopes Earnings KPIs\"](../../ifrs17/Report/ReportScopesEarningsKpis) "
            ],
            "metadata": {},
            "execution_count": 0,
            "outputs": []
        },
        {
            "cell_type": "markdown",
            "source": [
                "# Import Modules",
                "\nWe need to import the Calculation Engine and Initialize the system with with reference data."
            ],
            "metadata": {},
            "execution_count": 0,
            "outputs": []
        },
        {
            "cell_type": "code",
            "source": [
                "#!import \"../Initialization/InitSystemorphToMemory\""
            ],
            "metadata": {},
            "execution_count": 0,
            "outputs": []
        },
        {
            "cell_type": "code",
            "source": [
                "Workspace.Reset(x => x.ResetInitializationRules().ResetCurrentPartitions());",
                "\nWorkspace.InitializeFrom(DataSource);",
                "\n",
                "\nifrs17.Reset(Workspace)"
            ],
            "metadata": {},
            "execution_count": 0,
            "outputs": []
        },
        {
            "cell_type": "markdown",
            "source": [
                "## Stuff I had to add"
            ],
            "metadata": {},
            "execution_count": 0,
            "outputs": []
        },
        {
            "cell_type": "code",
            "source": [
                "using Systemorph.Vertex.Pivot.Builder;",
                "\nusing Systemorph.Vertex.Pivot.Reporting.Builder;",
                "\nusing System.Collections.Immutable;",
                "\n",
                "\npublic static DataCubeReportBuilder<IDataCube<TVariable>, TVariable, TVariable ,TVariable> ReportGridOptions<TVariable>(",
                "\n    this DataCubePivotBuilder<IDataCube<TVariable>, TVariable, TVariable, TVariable> pivotBuilder,",
                "\n    int reportHeight = 700,",
                "\n    int valueColumnWidth = 250,",
                "\n    int headerColumnWidth = 250,",
                "\n    int groupDefaultExpanded = 2)",
                "\n    => pivotBuilder.ToTable().WithOptions(go => go",
                "\n                                     .WithColumns(cols => cols.Modify(\"Value\",c => c.WithWidth(valueColumnWidth).WithFormat(\"typeof(value) == 'number' ? new Intl.NumberFormat('en',{ minimumFractionDigits:3, maximumFractionDigits:3 }).format(value) : value\")))",
                "\n                                     .WithRows(rows => rows",
                "\n                                               .Where(r => !(r.RowGroup.Coordinates.Last() == \"NullGroup\"))",
                "\n                                               .Select(r => r with { RowGroup = r.RowGroup with { Coordinates = r.RowGroup.Coordinates.Where(c => c != \"NullGroup\").ToImmutableList() } })",
                "\n                                               .ToArray())",
                "\n                                     .HideRowValuesForDimension(\"Novelty\")",
                "\n                                     .HideRowValuesForDimension(\"Projection\")",
                "\n                                     .WithAutoGroupColumn(c => c.WithWidth(headerColumnWidth) with { Pinned = \"left\" })",
                "\n                                     with { Height = reportHeight, GroupDefaultExpanded = groupDefaultExpanded, OnGridReady = null } );"
            ],
            "metadata": {},
            "execution_count": 0,
            "outputs": []
        },
        {
            "cell_type": "code",
            "source": [
                "using Systemorph.Vertex.Pivot.Builder.Interfaces;",
                "\nusing Systemorph.Vertex.DataSource;",
                "\npublic static DataCubePivotBuilder<IDataCube<TElement>, TElement, TElement, TElement> ForSlicedDataCube<TElement>(this IPivotFactory factory, ",
                "\n                                            IDataCube<TElement> cube,",
                "\n                                            IDataSourceVariable dataSource,",
                "\n                                            List<string> rowsSlice = null, ",
                "\n                                            List<string> columnsSlice = null)",
                "\n{",
                "\n    rowsSlice ??= new List<string>() {\"Novelty\", \"VariableType\"};",
                "\n    columnsSlice ??= new List<string>() {\"Currency\", \"GroupOfContract\", \"EconomicBasis\"};",
                "\n    return factory.ForDataCube(cube)",
                "\n                .WithQuerySource(dataSource)",
                "\n                .SliceRowsBy(rowsSlice.ToArray())",
                "\n                .SliceColumnsBy(columnsSlice.ToArray());",
                "\n}"
            ],
            "metadata": {},
            "execution_count": 0,
            "outputs": []
        },
        {
            "cell_type": "code",
            "source": [
                "// public static IDataCube<ReportVariable> DivideKpi  (this IDataCube<ReportVariable> a, IDataCube<ReportVariable> b) {",
                "\n//     var denominator = b.AggregateBy(\"Currency\", \"Scenario\", \"Projection\", \"Portfolio\");",
                "\n//     var numerator = a.AggregateBy(\"Currency\", \"Scenario\", \"Projection\", \"Portfolio\");",
                "\n",
                "\n//     return numerator.Select(x => new { Order = 1, Position = x })",
                "\n//     .Concat(denominator.Select(x => new { Order = 2, Position = x }))",
                "\n//     .OrderBy(x => x.Order)",
                "\n//     .Select(x => x.Position)",
                "\n//     .GroupBy(x => new {x.Currency, x.Scenario, x.Projection, x.Portfolio})",
                "\n//     .SelectToDataCube(x => new ReportVariable(x.Last()) {",
                "\n//         Value = Math.Abs(x.Last().Value) < Precision",
                "\n//             ? -999",
                "\n//             : (x.ElementAtOrDefault(0)?.Value ?? 0) / x.Last().Value",
                "\n//         });",
                "\n// }",
                "\n"
            ],
            "metadata": {},
            "execution_count": 0,
            "outputs": []
        },
        {
            "cell_type": "code",
            "source": [
                "// public static IDataCube<ReportVariable> DivideKpi  (this IDataCube<ReportVariable> a, IDataCube<ReportVariable> b) {",
                "\n//     return a.Select(x => new { Type = \"Numerator\", Position = x })",
                "\n//         .Concat(b.Select(x => new { Type = \"Denominator\", Position = x }))",
                "\n//         .GroupBy(x => new {x.Position.Currency, x.Position.Scenario, x.Position.Projection, x.Position.Portfolio})",
                "\n//         .SelectToDataCube(x => {",
                "\n//             var d = x.SingleOrDefault(y => y.Type == \"Denominator\")?.Position ?? null;",
                "\n//             return (d == null || Math.Abs(d.Value) < Precision)",
                "\n//             ? null",
                "\n//                 : new ReportVariable(d) { Value = ",
                "\n//                     (x.SingleOrDefault(y => y.Type == \"Numerator\")?.Position.Value ?? 0) / d.Value ",
                "\n//                 };",
                "\n//             }",
                "\n//         )",
                "\n//         .Where(x => x != null)",
                "\n//         .ToDataCube();",
                "\n// }"
            ],
            "metadata": {},
            "execution_count": 0,
            "outputs": []
        },
        {
            "cell_type": "code",
            "source": [
                "public static IDataCube<ReportVariable> DivideKpi  (this IDataCube<ReportVariable> a, IDataCube<ReportVariable> b) {",
                "\n    return a.Select(x => new { Type = \"Numerator\", Position = x })",
                "\n        .Concat(b.Select(x => new { Type = \"Denominator\", Position = x }))",
                "\n        .GroupBy(x => new {x.Position.Currency, x.Position.Scenario, x.Position.Projection, x.Position.Portfolio})",
                "\n        .Select(x => {",
                "\n            var d = x.Where(y => y.Type == \"Denominator\").Aggregate()?.Position;",
                "\n            return (d == null || Math.Abs(d.Value) < Precision)",
                "\n            ? null",
                "\n                : new ReportVariable(d) { Value = (x.Where(y => y.Type == \"Numerator\").Aggregate().Position.Value)",
                "\n                    //(x.Where(y => y.Type == \"Numerator\").Aggregate().Position.Value) / d.Value ",
                "\n                };",
                "\n            }",
                "\n        )",
                "\n        .Where(x => x != null)",
                "\n        .ToDataCube();",
                "\n}"
            ],
            "metadata": {},
            "execution_count": 0,
            "outputs": []
        },
        {
            "cell_type": "code",
            "source": [
                "public interface Kpi: IScope<(ReportIdentity Id, CurrencyType CurrencyType), ReportStorage>, IDataCube<ReportVariable> {",
                "\n    private FinancialPerformanceAlternative FinancialPerformanceAlternative => GetScope<FinancialPerformanceAlternative>(Identity);",
                "\n    IDataCube<ReportVariable> Profit => FinancialPerformanceAlternative.FinancialPerformanceAlternative.AggregateBy(\"Currency\", \"Scenario\", \"Projection\", \"Portfolio\");",
                "\n    IDataCube<ReportVariable> InsuranceRevenue => FinancialPerformanceAlternative.InsuranceRevenue.AggregateBy(\"Currency\", \"Scenario\", \"Projection\", \"Portfolio\");",
                "\n    ",
                "\n    IDataCube<ReportVariable> Kpi => Profit.DivideKpi(InsuranceRevenue);",
                "\n}"
            ],
            "metadata": {},
            "execution_count": 0,
            "outputs": []
        },
        {
            "cell_type": "code",
            "source": [
                "reportIdentities.Select(x=> x.Item1).AggregateBy(\"Scenario\", \"Projection\", \"IsReinsurance\", \"IsOci\").Select(x => (x, CurrencyType.Contractual))"
            ],
            "metadata": {},
            "execution_count": 0,
            "outputs": []
        },
        {
            "cell_type": "code",
            "source": [
                "var scopeKpi = universe.GetScopes<Kpi>(reportIdentities.Select(x=> x.Item1).AggregateBy(\"Scenario\", \"Projection\", \"IsReinsurance\", \"IsOci\").Select(x => (x, CurrencyType.Contractual))).Aggregate();"
            ],
            "metadata": {},
            "execution_count": 0,
            "outputs": []
        },
        {
            "cell_type": "code",
            "source": [
                "var p = scopeKpi.Profit.AggregateBy(\"Currency\", \"Scenario\", \"Projection\", \"Portfolio\").ToDataCube();",
                "\nvar d = scopeKpi.InsuranceRevenue.AggregateBy(\"Currency\", \"Scenario\", \"Projection\", \"Portfolio\").ToDataCube();",
                "\nvar k = scopeKpi.Kpi.AggregateBy(\"Currency\", \"Scenario\", \"Projection\", \"Portfolio\").ToDataCube();"
            ],
            "metadata": {},
            "execution_count": 0,
            "outputs": []
        },
        {
            "cell_type": "code",
            "source": [
                "p"
            ],
            "metadata": {},
            "execution_count": 0,
            "outputs": []
        },
        {
            "cell_type": "code",
            "source": [
                "scopeKpi.Profit"
            ],
            "metadata": {},
            "execution_count": 0,
            "outputs": []
        },
        {
            "cell_type": "code",
            "source": [
                "p"
            ],
            "metadata": {},
            "execution_count": 0,
            "outputs": []
        },
        {
            "cell_type": "code",
            "source": [
                "universe.GetScopes<Kpi>(reportIdentities)//.Select(x => x.Profit)//.SelectMany(x => x.Kpi)"
            ],
            "metadata": {},
            "execution_count": 0,
            "outputs": []
        },
        {
            "cell_type": "code",
            "source": [
                "p.Select(x => new { Type = \"Numerator\", Position = x })",
                "\n    .Concat(d.Select(x => new { Type = \"Denominator\", Position = x }))",
                "\n    .GroupBy(x => new {x.Position.Currency, x.Position.Scenario, x.Position.Projection, x.Position.Portfolio})",
                "\n    .SelectToDataCube(x => {",
                "\n        var d = x.Where(y => y.Type == \"Denominator\").Aggregate()?.Position;",
                "\n        return (d == null || Math.Abs(d.Value) < Precision)",
                "\n            ? null",
                "\n            : new {den = d.Value, num = (x.Where(y => y.Type == \"Numerator\").Aggregate()?.Position.Value), ratio = ((x.Where(y => y.Type == \"Numerator\").Aggregate()?.Position.Value)) / d.Value };",
                "\n            //ReportVariable(d) { Value = (x.SingleOrDefault(y => y.Type == \"Numerator\")?.Position.Value ?? 0) / d.Value };",
                "\n        }",
                "\n    ).Where(x => x != null)",
                "\n    //.Select(x => new {count = x.Count(), num = x.First().Value, den = x.Last().Value, element1 = x.ElementAtOrDefault(0)?.Value ?? 0, ratio = (x.ElementAtOrDefault(0)?.Value ?? 0) / x.Last().Value})"
            ],
            "metadata": {},
            "execution_count": 0,
            "outputs": []
        },
        {
            "cell_type": "markdown",
            "source": [
                "# Report Setup"
            ],
            "metadata": {},
            "execution_count": 0,
            "outputs": []
        },
        {
            "cell_type": "markdown",
            "source": [
                "## Report Framework and Scope (args)"
            ],
            "metadata": {},
            "execution_count": 0,
            "outputs": []
        },
        {
            "cell_type": "code",
            "source": [
                "var reportStorage = new ReportStorage(Workspace, Report, Export);",
                "\nawait reportStorage.InitializeReportIndependentCacheAsync();",
                "\nvar universe = Scopes.ForSingleton().WithStorage(reportStorage).ToScope<IUniverse>();"
            ],
            "metadata": {},
            "execution_count": 0,
            "outputs": []
        },
        {
            "cell_type": "code",
            "source": [
                "((int Year, int Month) Period, string ReportingNode, string Scenario, CurrencyType CurrencyType) currentArgs = ((2021, 3), \"G\", null, CurrencyType.Contractual);",
                "\nawait reportStorage.InitializeAsync(currentArgs.Period, currentArgs.ReportingNode, currentArgs.Scenario, currentArgs.CurrencyType);",
                "\nvar reportIdentities = reportStorage.GetIdentities(currentArgs.Period, currentArgs.ReportingNode, currentArgs.Scenario, currentArgs.CurrencyType);"
            ],
            "metadata": {},
            "execution_count": 0,
            "outputs": []
        },
        {
            "cell_type": "code",
            "source": [
                " reportStorage.GetIdentities(currentArgs.Period, currentArgs.ReportingNode, currentArgs.Scenario, currentArgs.CurrencyType)"
            ],
            "metadata": {},
            "execution_count": 0,
            "outputs": []
        },
        {
            "cell_type": "markdown",
            "source": [
                "## Report Settings"
            ],
            "metadata": {},
            "execution_count": 0,
            "outputs": []
        },
        {
            "cell_type": "markdown",
            "source": [
                "You can set filters to any property of a [Report Variable](https://portal.systemorph.cloud/project/ifrs17/env/dev/DataModel/DataStructure#report-variable) data cube. I added Portfolio Filters as an example below (as it was convenient for analysis). This filter will be applicable to all reports below. Individual filters for each report can also be applied directly below."
            ],
            "metadata": {},
            "execution_count": 0,
            "outputs": []
        },
        {
            "cell_type": "code",
            "source": [
                "Func<ReportVariable, bool> portfolioFilters =",
                "\n    x => true;",
                "\n    //x => x.Portfolio == \"G.BBA\";",
                "\n    //x => x.Portfolio == \"R.BBA\";",
                "\n    //x => x.Portfolio == \"G.BBA\" || x.Portfolio == \"R.BBA\" || x.Portfolio == \"R.PAA\";",
                "\n    //x => x.Portfolio == \"R.PAA\";"
            ],
            "metadata": {},
            "execution_count": 0,
            "outputs": []
        },
        {
            "cell_type": "markdown",
            "source": [
                "# Reports",
                "\nYou can comment/uncomment the cells below as appropriate for your analysis."
            ],
            "metadata": {},
            "execution_count": 0,
            "outputs": []
        },
        {
            "cell_type": "markdown",
            "source": [
                ""
            ],
            "metadata": {},
            "execution_count": 0,
            "outputs": []
        },
        {
            "cell_type": "code",
            "source": [
                "var kpi = universe.GetScopes<Kpi>(reportIdentities)//.Aggregate()",
                "\n                  //.Filter(portfolioFilters)",
                "\n                  //.Filter(x => Math.Abs(x.Value) > Precision)",
                "\n                  ;",
                "\n",
                "\nvar kpiRowSlices = new List<string> {\"THIS\"};",
                "\nvar kpiColumnSlices = new List<string> {\"Currency\", \"Scenario\", \"Projection\", \"Portfolio\"};",
                "\n",
                "\n",
                "\n await ",
                "\n //Report.ForSlicedDataCube(kpi, DataSource, kpiRowSlices, kpiColumnSlices)",
                "\n Report.ForDataCubes(kpi)",
                "\n      .SliceColumnsBy(\"Currency\", \"Portfolio\")",
                "\n      .SliceRowsBy(\"THIS\")",
                "\n      .ReportGridOptions()",
                "\n      .ExecuteAsync()"
            ],
            "metadata": {},
            "execution_count": 0,
            "outputs": []
        },
        {
            "cell_type": "code",
            "source": [
                "90.470/-55.035",
                "\n"
            ],
            "metadata": {},
            "execution_count": 0,
            "outputs": []
        },
        {
            "cell_type": "code",
            "source": [
                "var fpalt = universe.GetScopes<FinancialPerformanceAlternative>(reportIdentities).Aggregate().FinancialPerformanceAlternative.ToDataCube()",
                "\n    .Filter(portfolioFilters)",
                "\n    ;",
                "\n            ",
                "\nvar fpaltRowSlices = new List<string>() {\"VariableType\", \"EstimateType\"};",
                "\n//var fpaltColumnSlices = new List<string>() {\"Currency\", \"LiabilityType\",\"GroupOfContract\"};",
                "\nvar fpaltColumnSlices = new List<string>() {\"Currency\", \"Scenario\", \"Projection\", \"Portfolio\"};",
                "\nawait Report.ForSlicedDataCube(fpalt, DataSource, fpaltRowSlices, fpaltColumnSlices)",
                "\n    .ReportGridOptions(headerColumnWidth: 500, groupDefaultExpanded: 3)",
                "\n    .ExecuteAsync()"
            ],
            "metadata": {},
            "execution_count": 0,
            "outputs": []
        },
        {
            "cell_type": "markdown",
            "source": [
                "## Best Estimate PV",
                "\nThis reports shows the Best Estimate Present Value of Future Cash Flows (excluding Risk Adjustment) and can be used to check that the input files was correctly imported into the tool."
            ],
            "metadata": {},
            "execution_count": 0,
            "outputs": []
        },
        {
            "cell_type": "code",
            "source": [
                "var pvs = //(universe.GetScopes<LockedBestEstimate>(projectionIdentities).Aggregate().LockedBestEstimate + universe.GetScopes<CurrentBestEstimate>(projectionIdentities).Aggregate().CurrentBestEstimate).Filter((\"EconomicBasis\", \"L\"))",
                "\n            universe.GetScopes<BestEstimate>(reportIdentities).Aggregate().BestEstimate",
                "\n                  .Filter(portfolioFilters)",
                "\n                  .Filter(x => Math.Abs(x.Value) > Precision)",
                "\n                  ;",
                "\n",
                "\nvar pvRowSlices = new List<string> {\"Novelty\", \"VariableType\"};",
                "\nvar pvColumnSlices = new List<string> {\"Currency\", \"LiabilityType\", \"EconomicBasis\", \"GroupOfContract\", \"AccidentYear\", \"AmountType\"};",
                "\nawait Report.ForSlicedDataCube(pvs, DataSource, pvRowSlices, pvColumnSlices)",
                "\n    .ReportGridOptions()",
                "\n    .ExecuteAsync()"
            ],
            "metadata": {},
            "execution_count": 0,
            "outputs": []
        },
        {
            "cell_type": "markdown",
            "source": [
                "## Actuals vs Expected",
                "\nThis report shows the delta between the expected cash flow (nominal expected release) and the actuals. The initial assumption is that they are the same (i.e. no Experience Variance) and this report can be used to check the numbers."
            ],
            "metadata": {},
            "execution_count": 0,
            "outputs": []
        },
        {
            "cell_type": "code",
            "source": [
                "var aeas = universe.GetScopes<ExperienceAdjustment>(projectionIdentities).Aggregate().ActuarialExperienceAdjustment",
                "\n    .Filter(x => !(x.LiabilityType == LiabilityTypes.LRC && reportStorage.GetHierarchy<AmountType>().Ancestors(x.AmountType, includeSelf: true).Any(x => x.SystemName == AmountTypes.CL)))",
                "\n    .Filter(x => !(x.LiabilityType == LiabilityTypes.LRC && x.ValuationApproach == ValuationApproaches.PAA && (reportStorage.GetHierarchy<AmountType>().Ancestors(x.AmountType, includeSelf: true).Any(x => x.SystemName == AmountTypes.AC) || reportStorage.GetHierarchy<AmountType>().Ancestors(x.AmountType, includeSelf: true).Any(x => x.SystemName == AmountTypes.AE))))",
                "\n    .Filter(portfolioFilters)",
                "\n    ;",
                "\n",
                "\nvar aeasRowSlices = new List<string> {\"AmountType\", \"EstimateType\"};",
                "\nvar aeasColumnSlices = new List<string> {\"Currency\", \"Projection\", \"GroupOfContract\"};",
                "\n",
                "\nawait Report.ForSlicedDataCube(aeas, DataSource, aeasRowSlices, aeasColumnSlices)",
                "\n    .ReportGridOptions(groupDefaultExpanded: 0)",
                "\n    .ExecuteAsync()"
            ],
            "metadata": {},
            "execution_count": 0,
            "outputs": []
        },
        {
            "cell_type": "markdown",
            "source": [
                "## Deferrals",
                "\nThis report show the amortization of the Insurance Acquisition Costs (deferrals)."
            ],
            "metadata": {},
            "execution_count": 0,
            "outputs": []
        },
        {
            "cell_type": "code",
            "source": [
                "var deferrals = universe.GetScopes<Deferrals>(projectionIdentities).Aggregate().Deferrals",
                "\n    .Filter(portfolioFilters)",
                "\n    ;",
                "\n                ",
                "\nvar deferralsRowSlices = new List<string> {\"Novelty\", \"VariableType\"};",
                "\nvar deferralsColumnSlices = new List<string> {\"Currency\", \"Projection\", \"LiabilityType\", \"GroupOfContract\"};",
                "\n",
                "\nawait Report.ForSlicedDataCube(deferrals, DataSource, deferralsRowSlices, deferralsColumnSlices)",
                "\n    .ReportGridOptions()",
                "\n    .ExecuteAsync()"
            ],
            "metadata": {},
            "execution_count": 0,
            "outputs": []
        },
        {
            "cell_type": "markdown",
            "source": [
                "## CSM/LC/LoReCo",
                "\nThis report show the amortization of the Contractual Service Margin (CSM), Loss Component (LC) and Loss Recovery Component (LoReCo). The LC only applies to Gross business, while the LoReCo only applies to Reinsurance held. Furthermore, this report is only applicable for BBA, as these quantities are not defined for PAA."
            ],
            "metadata": {},
            "execution_count": 0,
            "outputs": []
        },
        {
            "cell_type": "code",
            "source": [
                "var csmLcLoreco = (universe.GetScopes<Csm>(projectionIdentities).Aggregate().Csm + universe.GetScopes<Lc>(projectionIdentities).Aggregate().Lc + universe.GetScopes<Loreco>(projectionIdentities).Aggregate().Loreco)",
                "\n    .Filter(portfolioFilters)",
                "\n    ;",
                "\n                        ",
                "\nvar csmLcLorecoRowSlices = new List<string> {\"Novelty\",\"VariableType\"};",
                "\nvar csmLcLorecoColumnSlices = new List<string> {\"Currency\", \"Projection\",\"GroupOfContract\", \"EstimateType\"};",
                "\nawait Report.ForSlicedDataCube(csmLcLoreco, DataSource, csmLcLorecoRowSlices, csmLcLorecoColumnSlices)",
                "\n    .ReportGridOptions()",
                "\n    .ExecuteAsync()"
            ],
            "metadata": {},
            "execution_count": 0,
            "outputs": []
        },
        {
            "cell_type": "markdown",
            "source": [
                "## IFRS17 Actuarial Balance Sheet",
                "\nThis is the IFRS 17 Liability Actuarial Balance Sheet. The report shows the individual contributions of the LRC and LIC liabilities to the Balance Sheet."
            ],
            "metadata": {},
            "execution_count": 0,
            "outputs": []
        },
        {
            "cell_type": "code",
            "source": [
                "var abs = (universe.GetScopes<LrcActuarial>(projectionIdentities).Aggregate().LrcActuarial + universe.GetScopes<LicActuarial>(projectionIdentities).Aggregate().LicActuarial)",
                "\n    .Filter(portfolioFilters)",
                "\n    ;",
                "\n",
                "\nvar absRowSlices = new List<string> {\"Novelty\",\"VariableType\"};",
                "\nvar absColumnSlices = new List<string> {\"Currency\", \"Projection\", \"LiabilityType\", \"GroupOfContract\", \"EstimateType\" };",
                "\n//var absColumnSlices = new List<string> {\"Currency\", \"AnnualCohort\", \"GroupOfContract\", \"EstimateType\" };",
                "\nawait Report.ForSlicedDataCube(abs, DataSource, absRowSlices, absColumnSlices)",
                "\n    .ReportGridOptions()",
                "\n    .ExecuteAsync()"
            ],
            "metadata": {},
            "execution_count": 0,
            "outputs": []
        },
        {
            "cell_type": "markdown",
            "source": [
                "## IFRS17 Financial Performance",
                "\nThis is the IFRS 17 Financial Performance, which include section for the Total Comprehensive Income, Profit and Loss and Other Comprehensive Income. As prescribe by the standard, the Profit and Loss is further broken down into Insurance Revenue, Insurance Service Expense and Insurance Finance Income/Expense."
            ],
            "metadata": {},
            "execution_count": 0,
            "outputs": []
        },
        {
            "cell_type": "code",
            "source": [
                "var fpalt = universe.GetScopes<FinancialPerformanceAlternative>(reportIdentities).Aggregate().FinancialPerformanceAlternative.ToDataCube()",
                "\n    .Filter(portfolioFilters)",
                "\n    ;",
                "\n            ",
                "\nvar fpaltRowSlices = new List<string>() {\"VariableType\", \"EstimateType\"};",
                "\n//var fpaltColumnSlices = new List<string>() {\"Currency\", \"LiabilityType\",\"GroupOfContract\"};",
                "\nvar fpaltColumnSlices = new List<string>() {\"Currency\", \"Scenario\", \"Projection\", \"Portfolio\"};",
                "\nawait Report.ForSlicedDataCube(fpalt, DataSource, fpaltRowSlices, fpaltColumnSlices)",
                "\n    .ReportGridOptions(headerColumnWidth: 500, groupDefaultExpanded: 3)",
                "\n    .ExecuteAsync()"
            ],
            "metadata": {},
            "execution_count": 0,
            "outputs": []
        },
        {
            "cell_type": "code",
            "source": [
                ""
            ],
            "metadata": {},
            "execution_count": 0,
            "outputs": []
        }
    ]
}