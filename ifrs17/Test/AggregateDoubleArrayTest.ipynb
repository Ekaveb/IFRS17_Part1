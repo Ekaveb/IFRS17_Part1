{
    "metadata": {
        "authors": [],
        "kernelspec": {
            "display_name": "Formula Framework",
            "language": "C#",
            "name": "C#"
        },
        "language_info": {
            "file_extension": ".cs",
            "mimetype": "text/plain",
            "name": "C#"
        }
    },
    "nbformat": 4,
    "nbformat_minor": 5,
    "cells": [
        {
            "cell_type": "code",
            "source": [
                "#!import \"../Utils/Extensions\"",
                "\n#!import \"../Utils/TestHelper\""
            ],
            "metadata": {},
            "execution_count": 0,
            "outputs": []
        },
        {
            "cell_type": "code",
            "source": [
                "public void CheckAggregateDoubleArray(double[][] arrayOfDoubleArrays)",
                "\n{",
                "\n    var maxLength = arrayOfDoubleArrays.Select(x => x.Length).Max();",
                "\n",
                "\n    var arraysWithMaxLength = arrayOfDoubleArrays.Where(x => x.Length == maxLength);",
                "\n    var remainingArrays = arrayOfDoubleArrays.Except(arraysWithMaxLength);",
                "\n    ",
                "\n    //Include arrays with max length as first",
                "\n    var aggregatedArrayMaxLengthFirst = arraysWithMaxLength.Concat(remainingArrays).AggregateDoubleArray();",
                "\n    aggregatedArrayMaxLengthFirst.Length.Should().Be(maxLength);",
                "\n",
                "\n    //Include arrays with max length as last",
                "\n    var aggregatedArrayMaxLengthLast = remainingArrays.Concat(arraysWithMaxLength).AggregateDoubleArray();",
                "\n    aggregatedArrayMaxLengthLast.Length.Should().Be(maxLength);",
                "\n",
                "\n    CheckEquality(aggregatedArrayMaxLengthFirst, aggregatedArrayMaxLengthLast).Should().Be(true);",
                "\n}"
            ],
            "metadata": {},
            "execution_count": 0,
            "outputs": []
        },
        {
            "cell_type": "code",
            "source": [
                "var array = new double [] [] {new[] {-100d,-50d }, new[] {-100d,-50d,-50d,-50d,0d,0d,0d,0d, 0d,0d,}, new[] {-100d,-50d,-50d,-50d,0d,0d,0d,0d, 0d,0d,}, new[] {-100d,-50d,-50d,-50d,0d,0d,0d,0d, 0d,0d,} };",
                "\nCheckAggregateDoubleArray(array)"
            ],
            "metadata": {},
            "execution_count": 0,
            "outputs": []
        },
        {
            "cell_type": "code",
            "source": [
                ""
            ],
            "metadata": {},
            "execution_count": 0,
            "outputs": []
        }
    ]
}