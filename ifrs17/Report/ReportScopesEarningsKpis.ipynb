{
    "metadata": {
        "authors": [],
        "id": "oaZSlomTYEiOOibUIwVjew",
        "kernelspec": {
            "display_name": "Formula Framework",
            "language": "C#",
            "name": "C#"
        },
        "language_info": {
            "file_extension": ".cs",
            "mimetype": "text/plain",
            "name": "C#"
        }
    },
    "nbformat": 4,
    "nbformat_minor": 5,
    "cells": [
        {
            "cell_type": "markdown",
            "source": [
                "<a id='report-scopes-earnings-kpi'></a>",
                "\n<p style=\"font-weight:bold;\"> <span style=\"font-size: 36px\"> Report Scopes for Earnings KPIs</span> </p>"
            ],
            "metadata": {},
            "execution_count": 0,
            "outputs": []
        },
        {
            "cell_type": "markdown",
            "source": [
                "# References",
                "\nMost Earnings Key Performance Indicators as defined in [Market updates on the impact of IFRS 17 and IFRS 9\"](https://assets.ey.com/content/dam/ey-sites/ey-com/en_gl/topics/insurance/ey-market-updates-on-the-impact-of-ifrs-17-and-ifrs-9-octobe-2023.pdf) publication by EY (October 2023).",
                "\nSome others have been added based on general market information."
            ],
            "metadata": {},
            "execution_count": 0,
            "outputs": []
        },
        {
            "cell_type": "markdown",
            "source": [
                "## Notebooks"
            ],
            "metadata": {},
            "execution_count": 0,
            "outputs": []
        },
        {
            "cell_type": "code",
            "source": [
                "#!import \"ReportScopes\""
            ],
            "metadata": {},
            "execution_count": 0,
            "outputs": []
        },
        {
            "cell_type": "markdown",
            "source": [
                "# Earnings KPI's"
            ],
            "metadata": {},
            "execution_count": 0,
            "outputs": []
        },
        {
            "cell_type": "markdown",
            "source": [
                "## Net Profit Margin",
                "\n",
                "\nIt represents the amount of net profit the entity obtains from its total insurance revenue.",
                "\n",
                "\nThe higher the percentage, the higher the amount of net profit that the entity generates in proportion to insurance revenue.",
                "\n",
                "\n$$",
                "\n\\text{Net Profit Margin} = \\frac{\\text{ Net Profit }} {\\text{Insurance Revenue}}",
                "\n$$"
            ],
            "metadata": {},
            "execution_count": 0,
            "outputs": []
        },
        {
            "cell_type": "markdown",
            "source": [
                "## Insurance Service Margin",
                "\n",
                "\nIt represents the amount of profit from insurance service the entity obtains from its total insurance revenue.",
                "\n",
                "\nThe higher the percentage, the higher the amount of profit from insurance service that the entity generates in proportion to insurance revenue.",
                "\n",
                "\n$$",
                "\n\\text{Insurance Service Margin} = \\frac {\\text { Insurance Service Results}} {\\text{Insurance Revenue}}",
                "\n$$"
            ],
            "metadata": {},
            "execution_count": 0,
            "outputs": []
        },
        {
            "cell_type": "markdown",
            "source": [
                "## Ratio of CSM to Insurance Liabilities (BBA and VFA)",
                "\n",
                "\nIt represents the weight of the CSM on the total insurance contract liabilities, covering the BBA and VFA business.",
                "\n",
                "\nThe higher the percentage, the higher is the relative value of the CSM, which means there is more remaining future profitability from insurance contracts.",
                "\n",
                "\n$$",
                "\n\\text{CSM to Insurance Liabilities} = \\frac {\\text {Total CSM}} {\\text{Total Liabilities (BBA and VFA)}}",
                "\n$$"
            ],
            "metadata": {},
            "execution_count": 0,
            "outputs": []
        },
        {
            "cell_type": "markdown",
            "source": [
                "## Ratio of RA to Liabilites",
                "\n",
                "\nIt represents the proportion of RA to total insurance contract liabilities for all measurement models. For PAA, the ratio relates to the RA of the liability for incurred claims only.",
                "\n",
                "\nThe higher the ratio, the higher is the relative size of the RA. The amount of RA is driven by several factors, such as the type of business underwritten, the technique and the confidence level adopted for its calculation, and the level of diversification applied.",
                "\n",
                "\n$$",
                "\n\\text{Ratio of RA to Liabilities} = \\frac {\\text {RA}} {\\text{Total Liabilities}}",
                "\n$$",
                "\n"
            ],
            "metadata": {},
            "execution_count": 0,
            "outputs": []
        },
        {
            "cell_type": "markdown",
            "source": [
                "## CSM Release Ratio (BBA and VFA)",
                "\n",
                "\nIt represents the amount of CSM released to profit and loss as a percentage of the total CSM balance at the end of the period.",
                "\n",
                "\nThis ratio provides some insight into the runoff period of the CSM, which can be analyzed further when the CSM runoff period is disclosed in the annual financial statements presented at the year end in accordance with IFRS 17.",
                "\n",
                "\n$$",
                "\n\\text{CSM Release Ratio} = \\frac {\\text {CSM Release}} {\\text{Total CSM}}",
                "\n$$"
            ],
            "metadata": {},
            "execution_count": 0,
            "outputs": []
        },
        {
            "cell_type": "markdown",
            "source": [
                "## CSM Growth Ratio (BBA and VFA)",
                "\n",
                "\nIt provides insights on the growth direction of the unearned CSM of insurers.",
                "\n",
                "\nA ratio above 100% means that, absent other measurement effects, the CSM is growing (i.e., the amount of CSM recognized for new business is higher than the amount ofCSM released in the period). A ratio below 100% means that the CSM is declining.",
                "\n",
                "\n$$",
                "\n\\text{CSM Growth Ratio} = \\frac {\\text {New Business CSM}} {\\text{CSM Release}}",
                "\n$$"
            ],
            "metadata": {},
            "execution_count": 0,
            "outputs": []
        },
        {
            "cell_type": "markdown",
            "source": [
                "## New Business CSM Weight (BBA and VFA)",
                "\n",
                "\nIt represents the weight of the CSM from new business written in the period and provides insight regarding profitable new business.",
                "\n",
                "\nThe higher the ratio, the higher is the amount of new unearned future profit recognized by the insurer during the period relative to the total remaining CSM at the end of the period.",
                "\n",
                "\n$$",
                "\n\\text{New Business CSM Weight} = \\frac {\\text {New Business CSM}} {\\text{Total CSM}}",
                "\n$$"
            ],
            "metadata": {},
            "execution_count": 0,
            "outputs": []
        },
        {
            "cell_type": "markdown",
            "source": [
                "## Loss Component Weight",
                "\n",
                "\nIt represents the proportion of the loss component on the total insurance contract liabilities and provides insight on the size of onerous business.",
                "\n",
                "\nThe higher the ratio, the higher the value of onerous contracts recognized.",
                "\n",
                "\n$$",
                "\n\\text{Loss Component Weight} = \\frac {\\text {Loss Component}} {\\text{Total Liabilities}}",
                "\n$$"
            ],
            "metadata": {},
            "execution_count": 0,
            "outputs": []
        },
        {
            "cell_type": "markdown",
            "source": [
                "## Experience Variance Weight (BBA and VFA)",
                "\n",
                "\nIt represents the weight that the experience adjustments related to current services for BBA and VFA has on the insurance service result generated during the period.",
                "\n",
                "\nA ratio above 0% means the insurer presented a favourable effect from its experience variance, while a ratio below 0% means the insurer presented an unfavourable effect from its experience variance.",
                "\n",
                "\n$$",
                "\n\\text{Experience Variance Weight} = \\frac {\\text{Experience Variance (BBA and VFA)}} {\\text{Insurance Service Result (BBA and VFA)}}",
                "\n$$"
            ],
            "metadata": {},
            "execution_count": 0,
            "outputs": []
        },
        {
            "cell_type": "markdown",
            "source": [
                "## Reinsurance CSM Weight",
                "\n",
                "\nIt provides insights on the weight of future profit ceded to reinsurers.",
                "\n",
                "\nA ratio above 0% means that the CSM for reinsurance contracts held is a net cost (debit CSM), while a ratio below 0% means that the CSM for reinsurance contracts held is a net gain (credit CSM).",
                "\n",
                "\n$$",
                "\n\\text{Reinsurance CSM Weight} = \\frac {\\text{Reinsurance Contracts Held CSM}} {\\text{Insurance Contracts Issued CSM}}",
                "\n$$"
            ],
            "metadata": {},
            "execution_count": 0,
            "outputs": []
        },
        {
            "cell_type": "code",
            "source": [
                ""
            ],
            "metadata": {},
            "execution_count": 0,
            "outputs": []
        },
        {
            "cell_type": "code",
            "source": [
                ""
            ],
            "metadata": {},
            "execution_count": 0,
            "outputs": []
        },
        {
            "cell_type": "code",
            "source": [
                ""
            ],
            "metadata": {},
            "execution_count": 0,
            "outputs": []
        },
        {
            "cell_type": "code",
            "source": [
                ""
            ],
            "metadata": {},
            "execution_count": 0,
            "outputs": []
        }
    ]
}