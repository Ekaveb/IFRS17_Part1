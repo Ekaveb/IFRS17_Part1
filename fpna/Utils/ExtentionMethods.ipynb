{
    "metadata": {
        "authors": [],
        "id": "kkNKCHFFzkqRCi2Qb4VFDQ",
        "kernelspec": {
            "display_name": "Formula Framework",
            "language": "C#",
            "name": "C#"
        },
        "language_info": {
            "file_extension": ".cs",
            "mimetype": "text/plain",
            "name": "C#"
        }
    },
    "nbformat": 4,
    "nbformat_minor": 5,
    "cells": [
        {
            "cell_type": "markdown",
            "source": [
                "# Cashflow Computation"
            ],
            "metadata": {},
            "execution_count": 0,
            "outputs": []
        },
        {
            "cell_type": "code",
            "source": [
                "public static double[] GetConstantValues(this double initialValue, int shift, int length){",
                "\n",
                "\n    var constant = new double[shift + length];",
                "\n    ",
                "\n    for (var i = 0; i < length; i++)",
                "\n        constant[shift + i] =  initialValue;",
                "\n        ",
                "\n    return constant;",
                "\n}"
            ],
            "metadata": {},
            "execution_count": 0,
            "outputs": []
        },
        {
            "cell_type": "markdown",
            "source": [
                "## Compute Linear Cashflow"
            ],
            "metadata": {},
            "execution_count": 0,
            "outputs": []
        },
        {
            "cell_type": "code",
            "source": [
                "public static double[] GetLinearValues(this double initialValue, int shift, int length, double[] values){",
                "\n",
                "\n    // The cashflow start after \"shift\" periods. ",
                "\n    // The cashflow length is \"Lenght\" periods.",
                "\n    // The cashflow is the accumulation of \"initialValue\" + \"value[i]\"",
                "\n",
                "\n    var linear = new double[shift + length];",
                "\n    ",
                "\n    for (var i = 0; i < length; i++)",
                "\n        linear[shift + i] =  initialValue + values.Take(i + 1).Aggregate((x, y) => x + y);",
                "\n        ",
                "\n    return linear;",
                "\n}"
            ],
            "metadata": {},
            "execution_count": 0,
            "outputs": []
        },
        {
            "cell_type": "markdown",
            "source": [
                "## Compute Compounded Cashflow"
            ],
            "metadata": {},
            "execution_count": 0,
            "outputs": []
        },
        {
            "cell_type": "code",
            "source": [
                "public static double[] GetCompoundValues(this double initialValue, int shift, int length, double[] values){",
                "\n    ",
                "\n    var compound = new double[shift + length];",
                "\n",
                "\n    for (var i = 0; i < length; i++)",
                "\n        compound[shift + i] = initialValue * values.Take(i + 1).Select(x => 1 + x).Aggregate((x, y) => x * y);",
                "\n             ",
                "\n    return compound;",
                "\n}"
            ],
            "metadata": {},
            "execution_count": 0,
            "outputs": []
        },
        {
            "cell_type": "markdown",
            "source": [
                "## Compute "
            ],
            "metadata": {},
            "execution_count": 0,
            "outputs": []
        },
        {
            "cell_type": "code",
            "source": [
                "public static double[] GetBoundedCashflow(this int shift, int length, double min, double max){",
                "\n    var bounded = new double[length];",
                "\n    var random = new Random(); // is this random enough?",
                "\n",
                "\n    for (var i = shift; i < length; i++)",
                "\n        bounded[i] = random.NextDouble() * (max - min) + min;",
                "\n               ",
                "\n    return bounded;",
                "\n}"
            ],
            "metadata": {},
            "execution_count": 0,
            "outputs": []
        }
    ]
}