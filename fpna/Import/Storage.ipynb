{
    "metadata": {
        "authors": [],
        "id": "EC4buVCSHkO-a0E91CUJ1A",
        "kernelspec": {
            "display_name": "Formula Framework",
            "language": "C#",
            "name": "C#"
        },
        "language_info": {
            "file_extension": ".cs",
            "mimetype": "text/plain",
            "name": "C#"
        }
    },
    "nbformat": 4,
    "nbformat_minor": 5,
    "cells": [
        {
            "cell_type": "code",
            "source": [
                "#!import \"../DataModel/DataStructure\""
            ],
            "metadata": {},
            "execution_count": 0,
            "outputs": []
        },
        {
            "cell_type": "code",
            "source": [
                "public record CashflowIdentity{",
                "\n    public string DataNode {get; set;}",
                "\n    public string AmountType {get; set;}",
                "\n    public int? AccidentYear {get; set;}",
                "\n    public Type Type {get; set;}",
                "\n}"
            ],
            "metadata": {},
            "execution_count": 0,
            "outputs": []
        },
        {
            "cell_type": "markdown",
            "source": [
                "# Storage"
            ],
            "metadata": {},
            "execution_count": 0,
            "outputs": []
        },
        {
            "cell_type": "code",
            "source": [
                "public class CashflowStorage",
                "\n{   ",
                "\n    private readonly IDataSource querySource; ",
                "\n    private readonly IWorkspace workspace;",
                "\n    private readonly Systemorph.Vertex.Hierarchies.IHierarchicalDimensionCache hierarchyCache;",
                "\n    private readonly ImportArgs args;",
                "\n",
                "\n    public Cashflow[] CashflowsByIdentity { get; private set; }",
                "\n    public CashflowIdentity[] Identities {get; set;}",
                "\n",
                "\n    // Constructor",
                "\n    public CashflowStorage(ImportArgs args, IDataSource querySource, IWorkspace workspace)",
                "\n    {",
                "\n        this.querySource = querySource;",
                "\n        this.workspace = workspace;",
                "\n        hierarchyCache = workspace.ToHierarchicalDimensionCache();",
                "\n        this.args = args;",
                "\n    }",
                "\n    ",
                "\n    // Initialize",
                "\n    public async Task InitializeAsync()",
                "\n    {",
                "\n        CashflowsByIdentity = await workspace.Query<Cashflow>().ToArrayAsync();",
                "\n        // Identities",
                "\n        Identities = CashflowsByIdentity.Select(x => new CashflowIdentity() ",
                "\n            { ",
                "\n                DataNode = x.DataNode,",
                "\n                AmountType = x.AmountType,",
                "\n                AccidentYear = x.AccidentYear,",
                "\n                Type = x.GetType(),",
                "\n            }",
                "\n        ).Distinct().ToArray();",
                "\n    }",
                "\n   ",
                "\n    // Getters",
                "\n    public IEnumerable<Cashflow> GetCashflow<T>(CashflowIdentity identity) where T : Cashflow =>",
                "\n        CashflowsByIdentity.Where(x => x.GetType() == typeof(T) && x.DataNode == identity.DataNode && x.AmountType == identity.AmountType && x.AccidentYear == identity.AccidentYear);",
                "\n}"
            ],
            "metadata": {},
            "execution_count": 0,
            "outputs": []
        }
    ]
}