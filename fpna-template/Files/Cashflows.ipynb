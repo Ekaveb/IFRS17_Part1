{
    "metadata": {
        "authors": [],
        "id": "mcxVoq7tgkWFra_yhSjkFA",
        "kernelspec": {
            "display_name": "Formula Framework",
            "language": "C#",
            "name": "C#"
        },
        "language_info": {
            "file_extension": ".cs",
            "mimetype": "text/plain",
            "name": "C#"
        }
    },
    "nbformat": 4,
    "nbformat_minor": 5,
    "cells": [
        {
            "cell_type": "code",
            "source": [
                "var basicCashflows = @\"@@BasicCashflow",
                "\nDataNode,AmountType,Shape,InitialValue,Length,Shift,Values0,Values1,Values2,Values3,Values4,",
                "\nG.BBA.LRC.2020.P,PR,Constant,10000,5,0,,,,,",
                "\nG.BBA.LRC.2020.P,PR,Linear,1000,4,1,0.5,0.5,0.5,0.5,",
                "\n\";"
            ],
            "metadata": {},
            "execution_count": 0,
            "outputs": []
        },
        {
            "cell_type": "code",
            "source": [
                "var boundedCashflows = @\"@@BoundedCashflow  ",
                "\nDataNode,AmountType,Shape,InitialValue,Length,Shift,Minimum,Maximum",
                "\nG.BBA.LRC.2020.P,PR,Random,6000,4,1,100,400",
                "\n\";"
            ],
            "metadata": {},
            "execution_count": 0,
            "outputs": []
        },
        {
            "cell_type": "code",
            "source": [
                "var referencedCashflows = @\"@@ReferencedCashflow",
                "\nDataNode,AmountType,AccidentYear,Shape,InitialValue,Length,Shift,ReferenceAmountType,Values0,Values1,Values2,Values3,Values4",
                "\nG.BBA.LRC.2020.P,PR,,Reference,,,,PR,0.5,0.5,0.5,0.5,0.5",
                "\nG.BBA.LRC.2020.P,AEM,,Reference,,,,PR,-0.5,-0.5,-0.5,-0.5,-0.5",
                "\nG.BBA.LRC.2020.P,CL,,Reference,,,,PR,-0.25,-0.25,-0.25,-0.25,-0.25",
                "\nG.BBA.LRC.2020.P,CL,,Reference,,,,AEM,0.5,0.5,0.5,0.5,0.5",
                "\nG.BBA.LRC.2020.P,S2ASH,,Reference,,,,PR,1,1,1,1,1",
                "\nG.BBA.LRC.2020.P,S2LTP,,Reference,,,,PR,3,3,3,4,5",
                "\n\";"
            ],
            "metadata": {},
            "execution_count": 0,
            "outputs": []
        },
        {
            "cell_type": "code",
            "source": [
                "var solvencyCashflows = @\"@@SolvencyCashflow",
                "\nDataNode,AmountType,Shape,RiskDriver,InitialValue,Length,Shift,Minimum,Maximum",
                "\nG.BBA.LRC.2020.P,IFASH,Constant,EQR,0.75,5,0,-1,0",
                "\nG.BBA.LRC.2020.P,IFASH,Constant,SPR,0.6,5,0,-1,0",
                "\nG.BBA.LRC.2020.P,IFLTP,Constant,LMOR,0.5,5,0,-1,0",
                "\n\";"
            ],
            "metadata": {},
            "execution_count": 0,
            "outputs": []
        }
    ]
}